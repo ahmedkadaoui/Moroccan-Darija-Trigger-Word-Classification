{
 "cells": [
  {
   "cell_type": "markdown",
   "id": "cbd47b75",
   "metadata": {},
   "source": [
    "# Moroccan Darija Trigger Word Classification ed .2"
   ]
  },
  {
   "cell_type": "markdown",
   "id": "5aeac8a7",
   "metadata": {},
   "source": [
    "# IMPORTS"
   ]
  },
  {
   "cell_type": "code",
   "execution_count": 66,
   "id": "505633b7",
   "metadata": {},
   "outputs": [],
   "source": [
    "import numpy as np\n",
    "import pandas as pd\n",
    "import matplotlib.pyplot as plt\n",
    "import seaborn as sns\n",
    "\n",
    "\n",
    "from keras.layers import Dense,Conv1D,Flatten,MaxPool1D,Dropout,LSTM\n",
    "from keras.models import Sequential\n",
    "\n",
    "import librosa #if not installed install with : !pip install librosa "
   ]
  },
  {
   "cell_type": "markdown",
   "id": "153f1e9a",
   "metadata": {},
   "source": [
    "# Loading the data"
   ]
  },
  {
   "cell_type": "code",
   "execution_count": 14,
   "id": "43d17719",
   "metadata": {},
   "outputs": [],
   "source": [
    "TRAINPATH= r\"C:\\Users\\ahmed\\Desktop\\trigerwords\\data\\train\""
   ]
  },
  {
   "cell_type": "code",
   "execution_count": 15,
   "id": "cd391695",
   "metadata": {},
   "outputs": [],
   "source": [
    "TESTPATH= r\"C:\\Users\\ahmed\\Desktop\\trigerwords\\data\\test\""
   ]
  },
  {
   "cell_type": "markdown",
   "id": "f11c887c",
   "metadata": {},
   "source": [
    "# Preprocessing the data"
   ]
  },
  {
   "cell_type": "code",
   "execution_count": 16,
   "id": "e129d8f9",
   "metadata": {},
   "outputs": [
    {
     "name": "stdout",
     "output_type": "stream",
     "text": [
      "['0mbsexwoja8u4n12v5ql.wav', '0p5dwnmxgabovt8u4hrf.wav', '0tjkrsnv1lfcub7hp5ex2.wav', '0y4whrmeixdalkz8s6bju.wav', '1t6w3k05q7j8clfmy9ug.wav', '2glnftjbpehdy7xi953a.wav', '2jgkywshetpr43xdabn7.wav', '32bixqwuv5anmtgzl8cj.wav', '3kp695hfniwozetu0aqrg.wav', '3xpvqgtyd9ucwmk6bof4.wav', '3zebh15sl6djpx4ri7g0u.wav', '41g2s8z3i7dkhfwtyoul0.wav', '43kjhxb2d9qpmatrv51e.wav', '46khm1wtnip8zeb7doj0.wav', '4eh591vt6x2surm08l3o.wav', '4nt1978i5lmdk36pz2yxh.wav', '4pg0yrcdhjvo73mtanxf.wav', '4q67nahyc3gm2xerd9su.wav', '4qktn8a5f0jcbev1irldx.wav', '5dqlz0onixs9phy2vwm1b.wav', '5e842oanxf379huk0g6c.wav', '5iaso8rzd7pfexyvuk1jn.wav', '5vnh0ky62o9d4sm8xbgzt.wav', '5wt2u8abqh3lds4k9ivj.wav', '64gqyv7n3ksmirj0lp9t1.wav', '67crbeaq5diwjmtvpzxs0.wav', '6fbgkadenil574two32h.wav', '6fu2bqt759is1yh38vo0.wav', '6zub4xg3ij7daqf91lwyc.wav', '71srdp82j6xick4ovl9z.wav', '7rni6fcob13metld9auv.wav', '7rvnxekopwi81b3c6fsd.wav', '7xbwc2u3o8fiyhgrzqsv1.wav', '7xyjhfudqg81bz2lot36k.wav', '83nitwe2cp5f1bjr07zs.wav', '85zflc2boiypd1e4gjkx.wav', '8veb3dpqyl9n0fxs6m214.wav', '90b6ciwo78v5etprzq2h.wav', '96kux8gnc024dbl3emw5.wav', '97fic3rxubmq0np82dzs.wav', '9f1246xmoebrjwg8z3au0.wav', '9mf72d05rogbakpevnuy.wav', '9p0ft7drzu2giev8hj5ol.wav', 'a0ibmgz97k6dc24ornqu.wav', 'a1mk98di42u7gtcw6xsb.wav', 'a3tqxrhku5ds4pg2fzi7j.wav', 'a542mzvilbsopjxc0wd19.wav', 'ae37swlpt9o4i1hcmnjz.wav', 'aiqtebv647zwhr8jxo2nc.wav', 'aqk2v9cxyzf534gp17ur.wav', 'as184dmcx5pbkjvyr63l.wav', 'b5dnr3fgj0keqlzywuov.wav', 'b7tysvc5j46xqfh3n8le.wav', 'bgwutx0phf3d9zqsrij2n.wav', 'dyg10k4t9chj8z65s2xai.wav', 'e1zqlc780knoasp269ui5.wav', 'e94dqf6wo3xmzthas0gyj.wav', 'e9bwha2fi83un5vpjqm7.wav', 'erqy50kcxdol1hj37z2p.wav', 'ex7p8cfjd96yq32ukiha.wav', 'fznl3vs67m1i2praw5c9.wav', 'g0ady76kcvzqmonfuprs.wav', 'gdoaz102l67c8qif3jtru.wav', 'gj8rfxzae4vibtohk62n1.wav', 'gudj6np7lx4ov5a9y3wq.wav', 'h64mw5vy1rsd7zb3ktloe.wav', 'h8kqe73wci60nzxgolmt.wav', 'hav549bjs2md7gnul1f0.wav', 'huk6vq0ezb4yi31a7tco.wav', 'i589pr1ytwjuvs4gb6aeh.wav', 'i8p2zynv6x9jhtf0qo31.wav', 'ifn9tvpz85hk6ylrd2x4.wav', 'ipqsw02ygnvt6lceb893.wav', 'ium9jpyr47tas6wk53zqv.wav', 'j16odbp2yf90av74huwm3.wav', 'jfdpibx796r8sg3a0meu.wav', 'jkfnp8dxt1cgar0bwsy7v.wav', 'jpqly8z20duht49k35g6.wav', 'jvi952304oykbnzdfc8x.wav', 'jx6rpt93yiobdum0h85k.wav', 'k1azgsv672tyiwmjcbun.wav', 'k1xcfnu6vwm3p8y5lior2.wav', 'k3c7sizr2qu8voy5n9fel.wav', 'kb13hn6tycplg0serixqv.wav', 'ki5j0nc4mt916pyq8xae.wav', 'l0g1wy8km2zav9uqt54fe.wav', 'l2ai5jk3x1ndvq9ec70h.wav', 'lwh2pk84idrb6oj1zx9n.wav', 'lwrk9bfnxqdsz26cv74u.wav', 'mc9ipjek5wl16v3nbyzht.wav', 'merz5uvxsi6khg2t7w3c1.wav', 'mg64xzop9lcu5fsqenbji.wav', 'mi2z51y4jb7thxuf8ldr.wav', 'mtjpl9es81a5fq60xuhgi.wav', 'mx0bfkrv73pe1utl98o5.wav', 'nexv1wq407sropj2kfcb.wav', 'niayku7teh3dx9p1w26cf.wav', 'nkpyoaxbzi4ftv62cd98g.wav', 'nye6qdsxliajo8u9c13fw.wav', 'oktl0q8ams43g7x6yzc5.wav', 'orc5736zwnkxygl4spva.wav', 'p0ve1ctismzj2bok8uy7x.wav', 'p183dkfqu4g7lwhjroa2z.wav', 'p4ezmaigny0q7623xdsck.wav', 'p6uj30stoe2m4rw7hklnc.wav', 'pawvn13c6blij0xr4fmt.wav', 'pbzchw4yx5sno76tagljv.wav', 'pcvug3t4y6rf9i1loez8.wav', 'pqug0ae43bl8txj9d1nw7.wav', 'pyjvr51h8lea7364w0io.wav', 'q7o5hc8zj9kfmltysauxv.wav', 'qh68nxu2f7jwaygz9i5sm.wav', 'quyphl4w5ev80nsm1ji3.wav', 'r7lwo34b5esfg1x6jmha.wav', 'r7wu3tfyjblxea5izdmc.wav', 'rjky97nic5qs08mblv2gh.wav', 's2yb1ncklj4vez7h0o9if.wav', 'sf97c8u2nx4lt0emghdy.wav', 'swb70co9qe3z6dhxfgjp.wav', 'tg7zmjcape84o1n9xl2di.wav', 'tgwadv895fnexiu4rk3l.wav', 'tlaxh2br0ofdpsemn8i14.wav', 'uh9kxpgze8w106mtnc27.wav', 'ulcdyxnbz6jqh9wmk4pa.wav', 'uqz1nryvafelh7s0dkgoi.wav', 'usq3dr0jf5elpg28hovw.wav', 'uwa81cpj4lktg26n30bhd.wav', 'uxmpzws120lvtq38nhgda.wav', 'v7n5hl83wjqtrgabmszd0.wav', 'va0tkxbfo6yhduq7g13m.wav', 'val6phx5r27qfidz3480s.wav', 'vf1wir9dj8kc0puh7246q.wav', 'vyxf60zbo87nlgcu542tm.wav', 'w1pkgjvey6om3s5zh2btf.wav', 'wxt1zqhpyjfoui340vge8.wav', 'xk8t2un3s0opr19cgl6j.wav', 'xoej05l8ybi69gws1q7k.wav', 'xpc4d8ozhv6altisy20j.wav', 'yj6tck1siob8ruqlae9mv.wav', 'ymb2dcs8hurol5jn4z79e.wav', 'z1waenbfltdk4qh253pm.wav', 'z69homd2bfsiljpxcqe5.wav', 'ziuab84tvf07snxjhyodp.wav', 'zpg7fva8em64wrxtioc5y.wav']\n"
     ]
    }
   ],
   "source": [
    "train_file_names = tf.io.gfile.listdir(str(TRAINPATH))\n",
    "print(train_file_names)"
   ]
  },
  {
   "cell_type": "code",
   "execution_count": 10,
   "id": "b60d5cd8",
   "metadata": {},
   "outputs": [],
   "source": [
    "test_file_names = tf.io.gfile.listdir(str(TESTPATH))"
   ]
  },
  {
   "cell_type": "code",
   "execution_count": 41,
   "id": "07d06e40",
   "metadata": {},
   "outputs": [],
   "source": [
    "\n",
    "def audio_to_array(file , semipath ):\n",
    "    x,_ = librosa.load(semipath +r\"\\\\\" +file, sr=3000)\n",
    "    x=(x-min(x))/(max(x)-min(x))\n",
    "    return x.astype(numpy.float16)\n",
    "\n",
    "def get_label(file ):\n"
   ]
  },
  {
   "cell_type": "code",
   "execution_count": 36,
   "id": "a5d7fc4d",
   "metadata": {},
   "outputs": [
    {
     "data": {
      "text/plain": [
       "array([0.505 , 0.506 , 0.504 , ..., 0.4028, 0.5474, 0.5605], dtype=float16)"
      ]
     },
     "execution_count": 36,
     "metadata": {},
     "output_type": "execute_result"
    }
   ],
   "source": [
    "audio_to_array(\"ulcdyxnbz6jqh9wmk4pa.wav\" ,TRAINPATH)"
   ]
  },
  {
   "cell_type": "code",
   "execution_count": 42,
   "id": "d808e6d0",
   "metadata": {},
   "outputs": [
    {
     "data": {
      "text/plain": [
       "1"
      ]
     },
     "execution_count": 42,
     "metadata": {},
     "output_type": "execute_result"
    }
   ],
   "source": [
    "get_label(\"ulcdyxnbz6jqh9wmk4pa.wav\" ) "
   ]
  },
  {
   "cell_type": "code",
   "execution_count": 21,
   "id": "09d7ef1c",
   "metadata": {},
   "outputs": [],
   "source": [
    "train_csv=pd.read_csv(r\"C:\\Users\\ahmed\\Desktop\\trigerwords\\train.csv\")"
   ]
  },
  {
   "cell_type": "code",
   "execution_count": 23,
   "id": "837ec837",
   "metadata": {},
   "outputs": [
    {
     "data": {
      "text/html": [
       "<div>\n",
       "<style scoped>\n",
       "    .dataframe tbody tr th:only-of-type {\n",
       "        vertical-align: middle;\n",
       "    }\n",
       "\n",
       "    .dataframe tbody tr th {\n",
       "        vertical-align: top;\n",
       "    }\n",
       "\n",
       "    .dataframe thead th {\n",
       "        text-align: right;\n",
       "    }\n",
       "</style>\n",
       "<table border=\"1\" class=\"dataframe\">\n",
       "  <thead>\n",
       "    <tr style=\"text-align: right;\">\n",
       "      <th></th>\n",
       "      <th>id</th>\n",
       "      <th>label</th>\n",
       "    </tr>\n",
       "  </thead>\n",
       "  <tbody>\n",
       "    <tr>\n",
       "      <th>0</th>\n",
       "      <td>gudj6np7lx4ov5a9y3wq</td>\n",
       "      <td>1</td>\n",
       "    </tr>\n",
       "    <tr>\n",
       "      <th>1</th>\n",
       "      <td>mi2z51y4jb7thxuf8ldr</td>\n",
       "      <td>1</td>\n",
       "    </tr>\n",
       "    <tr>\n",
       "      <th>2</th>\n",
       "      <td>ziuab84tvf07snxjhyodp</td>\n",
       "      <td>0</td>\n",
       "    </tr>\n",
       "    <tr>\n",
       "      <th>3</th>\n",
       "      <td>ulcdyxnbz6jqh9wmk4pa</td>\n",
       "      <td>1</td>\n",
       "    </tr>\n",
       "    <tr>\n",
       "      <th>4</th>\n",
       "      <td>gj8rfxzae4vibtohk62n1</td>\n",
       "      <td>0</td>\n",
       "    </tr>\n",
       "  </tbody>\n",
       "</table>\n",
       "</div>"
      ],
      "text/plain": [
       "                      id  label\n",
       "0   gudj6np7lx4ov5a9y3wq      1\n",
       "1   mi2z51y4jb7thxuf8ldr      1\n",
       "2  ziuab84tvf07snxjhyodp      0\n",
       "3   ulcdyxnbz6jqh9wmk4pa      1\n",
       "4  gj8rfxzae4vibtohk62n1      0"
      ]
     },
     "execution_count": 23,
     "metadata": {},
     "output_type": "execute_result"
    }
   ],
   "source": [
    "train_csv.head()"
   ]
  },
  {
   "cell_type": "code",
   "execution_count": 256,
   "id": "78912b1a",
   "metadata": {},
   "outputs": [
    {
     "data": {
      "text/plain": [
       "0"
      ]
     },
     "execution_count": 256,
     "metadata": {},
     "output_type": "execute_result"
    }
   ],
   "source": [
    "train_csv['label'].isna().sum()"
   ]
  },
  {
   "cell_type": "code",
   "execution_count": 28,
   "id": "661e6865",
   "metadata": {},
   "outputs": [
    {
     "data": {
      "text/plain": [
       "0       gudj6np7lx4ov5a9y3wq.wav\n",
       "1       mi2z51y4jb7thxuf8ldr.wav\n",
       "2      ziuab84tvf07snxjhyodp.wav\n",
       "3       ulcdyxnbz6jqh9wmk4pa.wav\n",
       "4      gj8rfxzae4vibtohk62n1.wav\n",
       "                 ...            \n",
       "139     pyjvr51h8lea7364w0io.wav\n",
       "140    nkpyoaxbzi4ftv62cd98g.wav\n",
       "141     97fic3rxubmq0np82dzs.wav\n",
       "142     fznl3vs67m1i2praw5c9.wav\n",
       "143     7rni6fcob13metld9auv.wav\n",
       "Name: id, Length: 144, dtype: object"
      ]
     },
     "execution_count": 28,
     "metadata": {},
     "output_type": "execute_result"
    }
   ],
   "source": [
    "train_csv['id'] =train_csv['id'].astype(str)+'.wav'\n",
    "train_csv['id']"
   ]
  },
  {
   "cell_type": "code",
   "execution_count": 32,
   "id": "ee8dff7c",
   "metadata": {},
   "outputs": [],
   "source": [
    "test_csv=pd.read_csv(r\"C:\\Users\\ahmed\\Desktop\\trigerwords\\test.csv\")"
   ]
  },
  {
   "cell_type": "code",
   "execution_count": 34,
   "id": "77475f03",
   "metadata": {},
   "outputs": [],
   "source": [
    "test_csv['id'] =test_csv['id'].astype(str)+'.wav'"
   ]
  },
  {
   "cell_type": "code",
   "execution_count": 45,
   "id": "1bffb069",
   "metadata": {},
   "outputs": [
    {
     "data": {
      "text/plain": [
       "8960"
      ]
     },
     "execution_count": 45,
     "metadata": {},
     "output_type": "execute_result"
    }
   ],
   "source": [
    "max_length = 0\n",
    "for file in train_file_names :\n",
    "    if len(audio_to_array(file , TRAINPATH ))>max_length:\n",
    "        max_length= len(audio_to_array(file,TRAINPATH ))\n",
    "max_length"
   ]
  },
  {
   "cell_type": "code",
   "execution_count": 134,
   "id": "2878191d",
   "metadata": {},
   "outputs": [],
   "source": [
    "x_train=[]\n",
    "y_train=[]\n",
    "c=0\n",
    "for file in train_file_names :\n",
    "    x_train.append(audio_to_array(file , TRAINPATH))\n",
    "    c+=1\n",
    "    for aud in train_csv['id'] :\n",
    "        if file ==  aud :\n",
    "            y_train.append(train_csv.loc[train_csv[\"id\"] == aud , \"label\"])\n",
    "            \n",
    "        \n",
    "    "
   ]
  },
  {
   "cell_type": "code",
   "execution_count": 51,
   "id": "2a6e33ad",
   "metadata": {},
   "outputs": [],
   "source": [
    "x_test=[]\n",
    "for audio in test_file_names :\n",
    "    x_test.append(np.pad(audio_to_array(audio , TESTPATH),(0,max_length-len(audio_to_array(audio , TESTPATH))),'constant').reshape(1,max_length))"
   ]
  },
  {
   "cell_type": "code",
   "execution_count": 137,
   "id": "86e6f0f5",
   "metadata": {},
   "outputs": [],
   "source": [
    "x_train=np.array(x_train)\n",
    "x_test=np.array(x_test)"
   ]
  },
  {
   "cell_type": "code",
   "execution_count": 107,
   "id": "df9b6235",
   "metadata": {},
   "outputs": [
    {
     "data": {
      "text/plain": [
       "array([array([0.521, 0.521, 0.521, ..., 0.   , 0.   , 0.   ], dtype=float16),\n",
       "       array([0.4092, 0.4092, 0.4092, ..., 0.    , 0.    , 0.    ], dtype=float16),\n",
       "       array([0.5835, 0.5835, 0.5835, ..., 0.    , 0.    , 0.    ], dtype=float16),\n",
       "       array([0.573, 0.573, 0.573, ..., 0.   , 0.   , 0.   ], dtype=float16),\n",
       "       array([0.5093, 0.5093, 0.5093, ..., 0.    , 0.    , 0.    ], dtype=float16),\n",
       "       array([0.4966, 0.4966, 0.4966, ..., 0.    , 0.    , 0.    ], dtype=float16),\n",
       "       array([0.485, 0.485, 0.485, ..., 0.   , 0.   , 0.   ], dtype=float16),\n",
       "       array([0.422, 0.422, 0.422, ..., 0.   , 0.   , 0.   ], dtype=float16),\n",
       "       array([0.558, 0.558, 0.558, ..., 0.   , 0.   , 0.   ], dtype=float16),\n",
       "       array([0.5425, 0.5425, 0.5425, ..., 0.    , 0.    , 0.    ], dtype=float16),\n",
       "       array([0.5605, 0.5605, 0.5605, ..., 0.    , 0.    , 0.    ], dtype=float16),\n",
       "       array([0.4685, 0.4685, 0.4685, ..., 0.    , 0.    , 0.    ], dtype=float16),\n",
       "       array([0.4717, 0.4717, 0.4717, ..., 0.    , 0.    , 0.    ], dtype=float16),\n",
       "       array([0.5337, 0.5337, 0.5337, ..., 0.    , 0.    , 0.    ], dtype=float16),\n",
       "       array([0.4182, 0.4182, 0.4182, ..., 0.    , 0.    , 0.    ], dtype=float16),\n",
       "       array([0.4583, 0.4583, 0.4583, ..., 0.    , 0.    , 0.    ], dtype=float16),\n",
       "       array([0.4912, 0.4912, 0.4912, ..., 0.    , 0.    , 0.    ], dtype=float16),\n",
       "       array([0.5, 0.5, 0.5, ..., 0. , 0. , 0. ], dtype=float16),\n",
       "       array([0.502 , 0.501 , 0.5015, ..., 0.    , 0.    , 0.    ], dtype=float16),\n",
       "       array([0.2167, 0.2167, 0.2167, ..., 0.    , 0.    , 0.    ], dtype=float16),\n",
       "       array([0.514, 0.514, 0.514, ..., 0.   , 0.   , 0.   ], dtype=float16),\n",
       "       array([0.442, 0.442, 0.442, ..., 0.   , 0.   , 0.   ], dtype=float16),\n",
       "       array([0.4797, 0.4797, 0.4797, ..., 0.    , 0.    , 0.    ], dtype=float16),\n",
       "       array([0.4863, 0.4863, 0.4863, ..., 0.    , 0.    , 0.    ], dtype=float16),\n",
       "       array([0.4834, 0.4834, 0.4834, ..., 0.    , 0.    , 0.    ], dtype=float16),\n",
       "       array([0.5625, 0.5625, 0.5625, ..., 0.    , 0.    , 0.    ], dtype=float16),\n",
       "       array([0.473, 0.473, 0.473, ..., 0.   , 0.   , 0.   ], dtype=float16),\n",
       "       array([0.311, 0.311, 0.311, ..., 0.   , 0.   , 0.   ], dtype=float16),\n",
       "       array([0.532, 0.532, 0.532, ..., 0.   , 0.   , 0.   ], dtype=float16),\n",
       "       array([0.631, 0.631, 0.631, ..., 0.   , 0.   , 0.   ], dtype=float16),\n",
       "       array([0.5425, 0.5425, 0.5425, ..., 0.    , 0.    , 0.    ], dtype=float16),\n",
       "       array([0.308, 0.308, 0.308, ..., 0.   , 0.   , 0.   ], dtype=float16),\n",
       "       array([0.47, 0.47, 0.47, ..., 0.  , 0.  , 0.  ], dtype=float16),\n",
       "       array([0.6426, 0.6426, 0.6426, ..., 0.6436, 0.642 , 0.641 ], dtype=float16),\n",
       "       array([0.4778, 0.4778, 0.4778, ..., 0.    , 0.    , 0.    ], dtype=float16),\n",
       "       array([0.532, 0.532, 0.532, ..., 0.   , 0.   , 0.   ], dtype=float16),\n",
       "       array([0.585, 0.585, 0.585, ..., 0.   , 0.   , 0.   ], dtype=float16),\n",
       "       array([0.592, 0.592, 0.592, ..., 0.   , 0.   , 0.   ], dtype=float16),\n",
       "       array([0.4692, 0.4692, 0.4692, ..., 0.    , 0.    , 0.    ], dtype=float16),\n",
       "       array([0.6147, 0.6147, 0.6147, ..., 0.    , 0.    , 0.    ], dtype=float16),\n",
       "       array([0.4854, 0.4854, 0.4854, ..., 0.    , 0.    , 0.    ], dtype=float16),\n",
       "       array([0.473, 0.473, 0.473, ..., 0.   , 0.   , 0.   ], dtype=float16),\n",
       "       array([0.4604, 0.4604, 0.4604, ..., 0.    , 0.    , 0.    ], dtype=float16),\n",
       "       array([0.476, 0.476, 0.476, ..., 0.   , 0.   , 0.   ], dtype=float16),\n",
       "       array([0.4668, 0.4668, 0.4668, ..., 0.    , 0.    , 0.    ], dtype=float16),\n",
       "       array([0.489 , 0.4885, 0.4883, ..., 0.    , 0.    , 0.    ], dtype=float16),\n",
       "       array([0.627 , 0.627 , 0.627 , ..., 0.6196, 0.6187, 0.6235], dtype=float16),\n",
       "       array([0.517 , 0.5317, 0.5273, ..., 0.    , 0.    , 0.    ], dtype=float16),\n",
       "       array([0.4502, 0.4504, 0.4507, ..., 0.    , 0.    , 0.    ], dtype=float16),\n",
       "       array([0.5356, 0.535 , 0.535 , ..., 0.    , 0.    , 0.    ], dtype=float16),\n",
       "       array([0.4675, 0.4675, 0.4675, ..., 0.    , 0.    , 0.    ], dtype=float16),\n",
       "       array([0.4426, 0.4426, 0.4426, ..., 0.4426, 0.4426, 0.4426], dtype=float16),\n",
       "       array([0.5815, 0.5815, 0.5815, ..., 0.    , 0.    , 0.    ], dtype=float16),\n",
       "       array([0.54, 0.54, 0.54, ..., 0.  , 0.  , 0.  ], dtype=float16),\n",
       "       array([0.4004, 0.4004, 0.4004, ..., 0.    , 0.    , 0.    ], dtype=float16),\n",
       "       array([0.527, 0.527, 0.527, ..., 0.   , 0.   , 0.   ], dtype=float16),\n",
       "       array([0.4402, 0.4402, 0.4402, ..., 0.    , 0.    , 0.    ], dtype=float16),\n",
       "       array([0.5156, 0.5156, 0.5156, ..., 0.    , 0.    , 0.    ], dtype=float16),\n",
       "       array([0.2568, 0.2568, 0.2568, ..., 0.    , 0.    , 0.    ], dtype=float16),\n",
       "       array([0.5176, 0.469 , 0.47  , ..., 0.    , 0.    , 0.    ], dtype=float16),\n",
       "       array([0.542, 0.542, 0.542, ..., 0.   , 0.   , 0.   ], dtype=float16),\n",
       "       array([0.615, 0.615, 0.615, ..., 0.   , 0.   , 0.   ], dtype=float16),\n",
       "       array([0.4395, 0.4395, 0.4395, ..., 0.    , 0.    , 0.    ], dtype=float16),\n",
       "       array([0.4016, 0.4016, 0.4016, ..., 0.    , 0.    , 0.    ], dtype=float16),\n",
       "       array([0.6343, 0.6343, 0.6343, ..., 0.    , 0.    , 0.    ], dtype=float16),\n",
       "       array([0.3657, 0.3657, 0.3657, ..., 0.    , 0.    , 0.    ], dtype=float16),\n",
       "       array([0.2805, 0.2805, 0.2805, ..., 0.    , 0.    , 0.    ], dtype=float16),\n",
       "       array([0.416, 0.416, 0.416, ..., 0.   , 0.   , 0.   ], dtype=float16),\n",
       "       array([0.483, 0.483, 0.483, ..., 0.   , 0.   , 0.   ], dtype=float16),\n",
       "       array([0.5044, 0.505 , 0.504 , ..., 0.    , 0.    , 0.    ], dtype=float16),\n",
       "       array([0.598, 0.598, 0.598, ..., 0.   , 0.   , 0.   ], dtype=float16),\n",
       "       array([0.4583, 0.4583, 0.4583, ..., 0.    , 0.    , 0.    ], dtype=float16),\n",
       "       array([0.401, 0.401, 0.401, ..., 0.   , 0.   , 0.   ], dtype=float16),\n",
       "       array([0.4558, 0.484 , 0.4675, ..., 0.    , 0.    , 0.    ], dtype=float16),\n",
       "       array([0.3733, 0.3733, 0.3733, ..., 0.    , 0.    , 0.    ], dtype=float16),\n",
       "       array([0.6196, 0.6196, 0.6196, ..., 0.    , 0.    , 0.    ], dtype=float16),\n",
       "       array([0.546, 0.546, 0.546, ..., 0.   , 0.   , 0.   ], dtype=float16),\n",
       "       array([0.4653, 0.4653, 0.4653, ..., 0.    , 0.    , 0.    ], dtype=float16),\n",
       "       array([0.5283, 0.528 , 0.5264, ..., 0.    , 0.    , 0.    ], dtype=float16),\n",
       "       array([0.535, 0.535, 0.535, ..., 0.   , 0.   , 0.   ], dtype=float16),\n",
       "       array([0.58, 0.58, 0.58, ..., 0.  , 0.  , 0.  ], dtype=float16),\n",
       "       array([0.531, 0.531, 0.531, ..., 0.   , 0.   , 0.   ], dtype=float16),\n",
       "       array([0.537, 0.537, 0.537, ..., 0.   , 0.   , 0.   ], dtype=float16),\n",
       "       array([0.4932, 0.4932, 0.4932, ..., 0.    , 0.    , 0.    ], dtype=float16),\n",
       "       array([0.4446, 0.4446, 0.4446, ..., 0.4448, 0.4458, 0.4456], dtype=float16),\n",
       "       array([0.424, 0.424, 0.424, ..., 0.   , 0.   , 0.   ], dtype=float16),\n",
       "       array([0.516, 0.516, 0.516, ..., 0.   , 0.   , 0.   ], dtype=float16),\n",
       "       array([0.477, 0.477, 0.477, ..., 0.   , 0.   , 0.   ], dtype=float16),\n",
       "       array([0.4597, 0.4597, 0.4597, ..., 0.    , 0.    , 0.    ], dtype=float16),\n",
       "       array([0.4463, 0.4495, 0.44  , ..., 0.    , 0.    , 0.    ], dtype=float16),\n",
       "       array([0.43, 0.43, 0.43, ..., 0.  , 0.  , 0.  ], dtype=float16),\n",
       "       array([0.512, 0.512, 0.512, ..., 0.   , 0.   , 0.   ], dtype=float16),\n",
       "       array([0.2888, 0.2888, 0.2888, ..., 0.    , 0.    , 0.    ], dtype=float16),\n",
       "       array([0.4487, 0.4487, 0.4487, ..., 0.    , 0.    , 0.    ], dtype=float16),\n",
       "       array([0.5366, 0.5366, 0.5366, ..., 0.    , 0.    , 0.    ], dtype=float16),\n",
       "       array([0.542, 0.542, 0.542, ..., 0.   , 0.   , 0.   ], dtype=float16),\n",
       "       array([0.522, 0.522, 0.522, ..., 0.   , 0.   , 0.   ], dtype=float16),\n",
       "       array([0.5303, 0.5303, 0.5303, ..., 0.    , 0.    , 0.    ], dtype=float16),\n",
       "       array([0.3245, 0.3245, 0.3245, ..., 0.    , 0.    , 0.    ], dtype=float16),\n",
       "       array([0.501 , 0.5425, 0.511 , ..., 0.    , 0.    , 0.    ], dtype=float16),\n",
       "       array([0.553, 0.553, 0.553, ..., 0.   , 0.   , 0.   ], dtype=float16),\n",
       "       array([0.4211, 0.4211, 0.4211, ..., 0.    , 0.    , 0.    ], dtype=float16),\n",
       "       array([0.463, 0.463, 0.463, ..., 0.   , 0.   , 0.   ], dtype=float16),\n",
       "       array([0.325, 0.325, 0.325, ..., 0.   , 0.   , 0.   ], dtype=float16),\n",
       "       array([0.434, 0.434, 0.434, ..., 0.   , 0.   , 0.   ], dtype=float16),\n",
       "       array([0.5015, 0.5015, 0.5015, ..., 0.    , 0.    , 0.    ], dtype=float16),\n",
       "       array([0.4016, 0.4016, 0.4016, ..., 0.    , 0.    , 0.    ], dtype=float16),\n",
       "       array([0.4607, 0.4607, 0.4607, ..., 0.    , 0.    , 0.    ], dtype=float16),\n",
       "       array([0.5337, 0.5337, 0.5337, ..., 0.    , 0.    , 0.    ], dtype=float16),\n",
       "       array([0.6006, 0.6006, 0.6006, ..., 0.    , 0.    , 0.    ], dtype=float16),\n",
       "       array([0.493 , 0.4958, 0.4927, ..., 0.    , 0.    , 0.    ], dtype=float16),\n",
       "       array([0.4863, 0.4863, 0.4863, ..., 0.    , 0.    , 0.    ], dtype=float16),\n",
       "       array([0.4426, 0.4426, 0.4426, ..., 0.    , 0.    , 0.    ], dtype=float16),\n",
       "       array([0.5483, 0.5483, 0.5483, ..., 0.    , 0.    , 0.    ], dtype=float16),\n",
       "       array([0.557, 0.557, 0.557, ..., 0.   , 0.   , 0.   ], dtype=float16),\n",
       "       array([0.4116, 0.4116, 0.4116, ..., 0.    , 0.    , 0.    ], dtype=float16),\n",
       "       array([0.5635, 0.5635, 0.5635, ..., 0.    , 0.    , 0.    ], dtype=float16),\n",
       "       array([0.3738, 0.3738, 0.3738, ..., 0.    , 0.    , 0.    ], dtype=float16),\n",
       "       array([0.515 , 0.5176, 0.5225, ..., 0.    , 0.    , 0.    ], dtype=float16),\n",
       "       array([0.547, 0.547, 0.547, ..., 0.   , 0.   , 0.   ], dtype=float16),\n",
       "       array([0.499, 0.499, 0.499, ..., 0.   , 0.   , 0.   ], dtype=float16),\n",
       "       array([0.427, 0.427, 0.427, ..., 0.   , 0.   , 0.   ], dtype=float16),\n",
       "       array([0.4734, 0.4734, 0.4734, ..., 0.    , 0.    , 0.    ], dtype=float16),\n",
       "       array([0.505, 0.506, 0.504, ..., 0.   , 0.   , 0.   ], dtype=float16),\n",
       "       array([0.532, 0.532, 0.532, ..., 0.   , 0.   , 0.   ], dtype=float16),\n",
       "       array([0.5146, 0.5146, 0.5146, ..., 0.    , 0.    , 0.    ], dtype=float16),\n",
       "       array([0.4888, 0.4888, 0.4888, ..., 0.    , 0.    , 0.    ], dtype=float16),\n",
       "       array([0.6377, 0.6377, 0.6377, ..., 0.    , 0.    , 0.    ], dtype=float16),\n",
       "       array([0.5493, 0.5493, 0.5493, ..., 0.5503, 0.55  , 0.5493], dtype=float16),\n",
       "       array([0.5044, 0.5044, 0.5044, ..., 0.    , 0.    , 0.    ], dtype=float16),\n",
       "       array([0.4324, 0.4324, 0.4324, ..., 0.4268, 0.4382, 0.4446], dtype=float16),\n",
       "       array([0.514, 0.514, 0.514, ..., 0.   , 0.   , 0.   ], dtype=float16),\n",
       "       array([0.5283, 0.523 , 0.5166, ..., 0.    , 0.    , 0.    ], dtype=float16),\n",
       "       array([0.463 , 0.4602, 0.4624, ..., 0.    , 0.    , 0.    ], dtype=float16),\n",
       "       array([0.5303, 0.5303, 0.5303, ..., 0.    , 0.    , 0.    ], dtype=float16),\n",
       "       array([0.6343, 0.6343, 0.6343, ..., 0.    , 0.    , 0.    ], dtype=float16),\n",
       "       array([0.4634, 0.4634, 0.4634, ..., 0.    , 0.    , 0.    ], dtype=float16),\n",
       "       array([0.593, 0.593, 0.593, ..., 0.   , 0.   , 0.   ], dtype=float16),\n",
       "       array([0.541, 0.541, 0.541, ..., 0.   , 0.   , 0.   ], dtype=float16),\n",
       "       array([0.5234, 0.5234, 0.5234, ..., 0.    , 0.    , 0.    ], dtype=float16),\n",
       "       array([0.4924, 0.4924, 0.4924, ..., 0.    , 0.    , 0.    ], dtype=float16),\n",
       "       array([0.4868, 0.4868, 0.4868, ..., 0.    , 0.    , 0.    ], dtype=float16),\n",
       "       array([0.4512, 0.4512, 0.4512, ..., 0.    , 0.    , 0.    ], dtype=float16),\n",
       "       array([0.4617, 0.4617, 0.4617, ..., 0.    , 0.    , 0.    ], dtype=float16)],\n",
       "      dtype=object)"
      ]
     },
     "execution_count": 107,
     "metadata": {},
     "output_type": "execute_result"
    }
   ],
   "source": [
    "x_train"
   ]
  },
  {
   "cell_type": "code",
   "execution_count": 135,
   "id": "c6b36d12",
   "metadata": {},
   "outputs": [],
   "source": [
    "for i in range(len(x_train)):\n",
    "    x_train[i]=np.pad(x_train[i],(0,max_length-len(x_train[i])),'constant')"
   ]
  },
  {
   "cell_type": "code",
   "execution_count": 141,
   "id": "9dcaef9d",
   "metadata": {},
   "outputs": [
    {
     "data": {
      "text/plain": [
       "(144, 8960)"
      ]
     },
     "execution_count": 141,
     "metadata": {},
     "output_type": "execute_result"
    }
   ],
   "source": [
    "x_train.shape"
   ]
  },
  {
   "cell_type": "code",
   "execution_count": 164,
   "id": "92feae32",
   "metadata": {},
   "outputs": [],
   "source": [
    "x_train=x_train.reshape(-1,8960,1)"
   ]
  },
  {
   "cell_type": "code",
   "execution_count": 145,
   "id": "df862b2c",
   "metadata": {},
   "outputs": [],
   "source": [
    "l=[]\n",
    "for i in range(len(y_train)):\n",
    "    if y_train[i][0]==1:\n",
    "        l.append(np.array([0,1]))\n",
    "    else :\n",
    "        l.append(np.array([1,0]))"
   ]
  },
  {
   "cell_type": "code",
   "execution_count": 146,
   "id": "b02568a5",
   "metadata": {},
   "outputs": [],
   "source": [
    "l=np.array(l)\n",
    "y_train=l"
   ]
  },
  {
   "cell_type": "markdown",
   "id": "8f5c2514",
   "metadata": {},
   "source": [
    "# Building our model"
   ]
  },
  {
   "cell_type": "code",
   "execution_count": 167,
   "id": "426d5dc8",
   "metadata": {},
   "outputs": [
    {
     "name": "stdout",
     "output_type": "stream",
     "text": [
      "Model: \"sequential_12\"\n",
      "_________________________________________________________________\n",
      " Layer (type)                Output Shape              Param #   \n",
      "=================================================================\n",
      " conv1d_22 (Conv1D)          (None, 8960, 256)         1536      \n",
      "                                                                 \n",
      " max_pooling1d_14 (MaxPoolin  (None, 2240, 256)        0         \n",
      " g1D)                                                            \n",
      "                                                                 \n",
      " conv1d_23 (Conv1D)          (None, 2236, 128)         163968    \n",
      "                                                                 \n",
      " max_pooling1d_15 (MaxPoolin  (None, 559, 128)         0         \n",
      " g1D)                                                            \n",
      "                                                                 \n",
      " flatten_7 (Flatten)         (None, 71552)             0         \n",
      "                                                                 \n",
      " dense_17 (Dense)            (None, 64)                4579392   \n",
      "                                                                 \n",
      " dense_18 (Dense)            (None, 32)                2080      \n",
      "                                                                 \n",
      " dense_19 (Dense)            (None, 2)                 66        \n",
      "                                                                 \n",
      "=================================================================\n",
      "Total params: 4,747,042\n",
      "Trainable params: 4,747,042\n",
      "Non-trainable params: 0\n",
      "_________________________________________________________________\n"
     ]
    }
   ],
   "source": [
    "\n",
    "model = models.Sequential()\n",
    "model.add(Conv1D(filters=256, kernel_size=5, padding='same', activation='relu',\n",
    "                         input_shape=x_train.shape[1:]))\n",
    "model.add(MaxPool1D(pool_size=4))\n",
    "model.add(Conv1D(filters=128, kernel_size=5, activation='relu'))\n",
    "model.add(MaxPool1D(pool_size=4))\n",
    "\n",
    "model.add(Flatten())\n",
    "model.add(Dense(64, activation='sigmoid'))\n",
    "model.add(Dense(32, activation='sigmoid'))\n",
    "model.add(Dense(2, activation='softmax'))\n",
    "model.summary()"
   ]
  },
  {
   "cell_type": "code",
   "execution_count": 168,
   "id": "ed5abf6f",
   "metadata": {},
   "outputs": [],
   "source": [
    "\n",
    "model.compile(\n",
    "    optimizer='adam',\n",
    "    loss='binary_crossentropy',\n",
    "    metrics=['accuracy'],\n",
    ")"
   ]
  },
  {
   "cell_type": "code",
   "execution_count": null,
   "id": "fd3f7057",
   "metadata": {},
   "outputs": [],
   "source": []
  },
  {
   "cell_type": "code",
   "execution_count": 238,
   "id": "483b5371",
   "metadata": {},
   "outputs": [],
   "source": [
    "ACCURACY_THRESHOLD=0.92\n",
    "class myCallback(tf.keras.callbacks.Callback):\n",
    "\tdef on_epoch_end(self, epoch, logs={}):\n",
    "\t\tif(logs.get('acc') > ACCURACY_THRESHOLD):\n",
    "\t\t\tprint(\"\\nReached %2.2f%% accuracy, so stopping training!!\" %(ACCURACY_THRESHOLD*100))\n",
    "\t\t\tself.model.stop_training = True\n",
    "\n",
    "callbacks = myCallback()"
   ]
  },
  {
   "cell_type": "markdown",
   "id": "8405b141",
   "metadata": {},
   "source": [
    "# Training the model"
   ]
  },
  {
   "cell_type": "code",
   "execution_count": 169,
   "id": "627da860",
   "metadata": {},
   "outputs": [
    {
     "name": "stdout",
     "output_type": "stream",
     "text": [
      "Epoch 1/30\n",
      "5/5 [==============================] - 5s 784ms/step - loss: 0.7138 - accuracy: 0.5139\n",
      "Epoch 2/30\n",
      "5/5 [==============================] - 4s 785ms/step - loss: 0.7021 - accuracy: 0.5278\n",
      "Epoch 3/30\n",
      "5/5 [==============================] - 4s 772ms/step - loss: 0.6925 - accuracy: 0.5347\n",
      "Epoch 4/30\n",
      "5/5 [==============================] - 4s 769ms/step - loss: 0.6907 - accuracy: 0.4861\n",
      "Epoch 5/30\n",
      "5/5 [==============================] - 4s 782ms/step - loss: 0.6863 - accuracy: 0.5486\n",
      "Epoch 6/30\n",
      "5/5 [==============================] - 4s 781ms/step - loss: 0.6825 - accuracy: 0.5694\n",
      "Epoch 7/30\n",
      "5/5 [==============================] - 4s 804ms/step - loss: 0.6813 - accuracy: 0.6042\n",
      "Epoch 8/30\n",
      "5/5 [==============================] - 4s 771ms/step - loss: 0.6779 - accuracy: 0.5694\n",
      "Epoch 9/30\n",
      "5/5 [==============================] - 4s 770ms/step - loss: 0.6677 - accuracy: 0.6528\n",
      "Epoch 10/30\n",
      "5/5 [==============================] - 4s 791ms/step - loss: 0.6529 - accuracy: 0.6667\n",
      "Epoch 11/30\n",
      "5/5 [==============================] - 4s 761ms/step - loss: 0.6462 - accuracy: 0.6597\n",
      "Epoch 12/30\n",
      "5/5 [==============================] - 4s 752ms/step - loss: 0.6121 - accuracy: 0.7292\n",
      "Epoch 13/30\n",
      "5/5 [==============================] - 4s 760ms/step - loss: 0.5912 - accuracy: 0.7292\n",
      "Epoch 14/30\n",
      "5/5 [==============================] - 4s 767ms/step - loss: 0.5625 - accuracy: 0.7431\n",
      "Epoch 15/30\n",
      "5/5 [==============================] - 4s 765ms/step - loss: 0.5294 - accuracy: 0.7986\n",
      "Epoch 16/30\n",
      "5/5 [==============================] - 4s 763ms/step - loss: 0.4911 - accuracy: 0.8403\n",
      "Epoch 17/30\n",
      "5/5 [==============================] - 4s 767ms/step - loss: 0.4577 - accuracy: 0.8750\n",
      "Epoch 18/30\n",
      "5/5 [==============================] - 4s 777ms/step - loss: 0.4317 - accuracy: 0.8681\n",
      "Epoch 19/30\n",
      "5/5 [==============================] - 4s 817ms/step - loss: 0.4268 - accuracy: 0.8542\n",
      "Epoch 20/30\n",
      "5/5 [==============================] - 4s 782ms/step - loss: 0.3707 - accuracy: 0.9097\n",
      "Epoch 21/30\n",
      "5/5 [==============================] - 4s 784ms/step - loss: 0.3424 - accuracy: 0.8958\n",
      "Epoch 22/30\n",
      "5/5 [==============================] - 4s 813ms/step - loss: 0.3189 - accuracy: 0.9097\n",
      "Epoch 23/30\n",
      "5/5 [==============================] - 4s 787ms/step - loss: 0.2745 - accuracy: 0.9375\n",
      "Epoch 24/30\n",
      "5/5 [==============================] - 4s 787ms/step - loss: 0.2788 - accuracy: 0.9167\n",
      "Epoch 25/30\n",
      "5/5 [==============================] - 4s 785ms/step - loss: 0.2489 - accuracy: 0.9375\n",
      "Epoch 26/30\n",
      "5/5 [==============================] - 4s 748ms/step - loss: 0.2375 - accuracy: 0.9514\n",
      "Epoch 27/30\n",
      "5/5 [==============================] - 4s 743ms/step - loss: 0.2151 - accuracy: 0.9514\n",
      "Epoch 28/30\n",
      "5/5 [==============================] - 4s 747ms/step - loss: 0.1950 - accuracy: 0.9722\n",
      "Epoch 29/30\n",
      "5/5 [==============================] - 4s 751ms/step - loss: 0.1678 - accuracy: 0.9792\n",
      "Epoch 30/30\n",
      "5/5 [==============================] - 4s 756ms/step - loss: 0.1580 - accuracy: 0.9792\n"
     ]
    },
    {
     "data": {
      "text/plain": [
       "<keras.callbacks.History at 0x24c8087a9a0>"
      ]
     },
     "execution_count": 169,
     "metadata": {},
     "output_type": "execute_result"
    }
   ],
   "source": [
    "EPOCHS=30\n",
    "model.fit(x_train,y_train,epochs=EPOCHS,batch_size=32,verbose=1)"
   ]
  },
  {
   "cell_type": "code",
   "execution_count": 170,
   "id": "d29bcf91",
   "metadata": {},
   "outputs": [
    {
     "name": "stdout",
     "output_type": "stream",
     "text": [
      "INFO:tensorflow:Assets written to: C:\\Users\\ahmed\\Desktop\\trigerwords\\assets\n"
     ]
    }
   ],
   "source": [
    "model.save(r\"C:\\Users\\ahmed\\Desktop\\trigerwords\")"
   ]
  },
  {
   "cell_type": "markdown",
   "id": "8e2c5e0d",
   "metadata": {},
   "source": [
    "# Evaluating the model"
   ]
  },
  {
   "cell_type": "code",
   "execution_count": 172,
   "id": "b941dfc8",
   "metadata": {},
   "outputs": [],
   "source": [
    "predictions=model.predict(x_test)"
   ]
  },
  {
   "cell_type": "code",
   "execution_count": 173,
   "id": "ab0e0366",
   "metadata": {},
   "outputs": [],
   "source": [
    "predictions=predictions.reshape((82, 2))"
   ]
  },
  {
   "cell_type": "code",
   "execution_count": 174,
   "id": "50f64147",
   "metadata": {},
   "outputs": [],
   "source": [
    "pred=predictions[:,1]"
   ]
  },
  {
   "cell_type": "code",
   "execution_count": 175,
   "id": "433e55d1",
   "metadata": {},
   "outputs": [],
   "source": [
    "for i in range(len(pred)):\n",
    "    if pred[i]>=0.5:\n",
    "        pred[i]=int(0)\n",
    "    else :\n",
    "        pred[i]=int(1)"
   ]
  },
  {
   "cell_type": "code",
   "execution_count": 176,
   "id": "0f2680c9",
   "metadata": {},
   "outputs": [],
   "source": [
    "final_pred=pred.astype(int)"
   ]
  },
  {
   "cell_type": "code",
   "execution_count": 177,
   "id": "fcc85807",
   "metadata": {},
   "outputs": [
    {
     "data": {
      "text/plain": [
       "array([1, 1, 1, 1, 0, 1, 0, 1, 0, 1, 1, 1, 0, 0, 0, 1, 1, 1, 0, 0, 0, 0,\n",
       "       0, 0, 0, 1, 1, 0, 0, 1, 0, 0, 1, 1, 0, 1, 0, 0, 0, 0, 0, 1, 1, 1,\n",
       "       0, 1, 1, 0, 0, 0, 1, 0, 1, 0, 1, 0, 1, 0, 1, 1, 0, 1, 0, 1, 0, 0,\n",
       "       1, 0, 1, 0, 1, 0, 1, 1, 1, 0, 0, 0, 1, 1, 1, 0])"
      ]
     },
     "execution_count": 177,
     "metadata": {},
     "output_type": "execute_result"
    }
   ],
   "source": [
    "final_pred"
   ]
  },
  {
   "cell_type": "markdown",
   "id": "a6537e46",
   "metadata": {},
   "source": [
    "# FOR SUBMISSION ON KAGGLE "
   ]
  },
  {
   "cell_type": "code",
   "execution_count": null,
   "id": "785cd188",
   "metadata": {},
   "outputs": [],
   "source": [
    "#test=pd.read_csv(r\"C:\\Users\\ahmed\\Downloads\\sample_submission.csv\")"
   ]
  },
  {
   "cell_type": "code",
   "execution_count": 184,
   "id": "22bcdbed",
   "metadata": {},
   "outputs": [],
   "source": [
    "#for index , row in test.iterrows() :\n",
    "#    test[\"label\"].loc[index]=final_pred[index]"
   ]
  },
  {
   "cell_type": "code",
   "execution_count": 182,
   "id": "c19408d1",
   "metadata": {},
   "outputs": [],
   "source": [
    "#test.to_csv(r\"C:\\Users\\ahmed\\Documents\\sample_submission10.csv\",index=False)"
   ]
  }
 ],
 "metadata": {
  "kernelspec": {
   "display_name": "Python 3",
   "language": "python",
   "name": "python3"
  },
  "language_info": {
   "codemirror_mode": {
    "name": "ipython",
    "version": 3
   },
   "file_extension": ".py",
   "mimetype": "text/x-python",
   "name": "python",
   "nbconvert_exporter": "python",
   "pygments_lexer": "ipython3",
   "version": "3.8.8"
  }
 },
 "nbformat": 4,
 "nbformat_minor": 5
}
