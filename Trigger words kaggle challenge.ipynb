{
 "cells": [
  {
   "cell_type": "markdown",
   "id": "cbd47b75",
   "metadata": {},
   "source": [
    "# Moroccan Darija Trigger Word Classification ed .2"
   ]
  },
  {
   "cell_type": "markdown",
   "id": "5aeac8a7",
   "metadata": {},
   "source": [
    "# IMPORTS"
   ]
  },
  {
   "cell_type": "code",
   "execution_count": 139,
   "id": "505633b7",
   "metadata": {},
   "outputs": [],
   "source": [
    "import numpy as np\n",
    "import pandas as pd\n",
    "import matplotlib.pyplot as plt\n",
    "\n",
    "import tensorflow as tf\n",
    "from keras.layers import Dense,Conv1D,Flatten,MaxPool1D,Dropout\n",
    "from keras.models import Sequential\n",
    "\n",
    "import librosa #if not installed install with : !pip install librosa "
   ]
  },
  {
   "cell_type": "markdown",
   "id": "153f1e9a",
   "metadata": {},
   "source": [
    "# Loading the data"
   ]
  },
  {
   "cell_type": "code",
   "execution_count": 2,
   "id": "43d17719",
   "metadata": {},
   "outputs": [],
   "source": [
    "TRAINPATH= r\"C:\\Users\\ahmed\\Desktop\\trigerwords\\data\\train\""
   ]
  },
  {
   "cell_type": "code",
   "execution_count": 159,
   "id": "3ad57db6",
   "metadata": {},
   "outputs": [],
   "source": [
    "train_csv=pd.read_csv(r\"C:\\Users\\ahmed\\Desktop\\trigerwords\\train.csv\")\n"
   ]
  },
  {
   "cell_type": "code",
   "execution_count": 160,
   "id": "de47a9b4",
   "metadata": {},
   "outputs": [
    {
     "data": {
      "text/html": [
       "<div>\n",
       "<style scoped>\n",
       "    .dataframe tbody tr th:only-of-type {\n",
       "        vertical-align: middle;\n",
       "    }\n",
       "\n",
       "    .dataframe tbody tr th {\n",
       "        vertical-align: top;\n",
       "    }\n",
       "\n",
       "    .dataframe thead th {\n",
       "        text-align: right;\n",
       "    }\n",
       "</style>\n",
       "<table border=\"1\" class=\"dataframe\">\n",
       "  <thead>\n",
       "    <tr style=\"text-align: right;\">\n",
       "      <th></th>\n",
       "      <th>id</th>\n",
       "      <th>label</th>\n",
       "    </tr>\n",
       "  </thead>\n",
       "  <tbody>\n",
       "    <tr>\n",
       "      <th>0</th>\n",
       "      <td>gudj6np7lx4ov5a9y3wq</td>\n",
       "      <td>1</td>\n",
       "    </tr>\n",
       "    <tr>\n",
       "      <th>1</th>\n",
       "      <td>mi2z51y4jb7thxuf8ldr</td>\n",
       "      <td>1</td>\n",
       "    </tr>\n",
       "    <tr>\n",
       "      <th>2</th>\n",
       "      <td>ziuab84tvf07snxjhyodp</td>\n",
       "      <td>0</td>\n",
       "    </tr>\n",
       "    <tr>\n",
       "      <th>3</th>\n",
       "      <td>ulcdyxnbz6jqh9wmk4pa</td>\n",
       "      <td>1</td>\n",
       "    </tr>\n",
       "    <tr>\n",
       "      <th>4</th>\n",
       "      <td>gj8rfxzae4vibtohk62n1</td>\n",
       "      <td>0</td>\n",
       "    </tr>\n",
       "  </tbody>\n",
       "</table>\n",
       "</div>"
      ],
      "text/plain": [
       "                      id  label\n",
       "0   gudj6np7lx4ov5a9y3wq      1\n",
       "1   mi2z51y4jb7thxuf8ldr      1\n",
       "2  ziuab84tvf07snxjhyodp      0\n",
       "3   ulcdyxnbz6jqh9wmk4pa      1\n",
       "4  gj8rfxzae4vibtohk62n1      0"
      ]
     },
     "execution_count": 160,
     "metadata": {},
     "output_type": "execute_result"
    }
   ],
   "source": [
    "train_csv.head()"
   ]
  },
  {
   "cell_type": "code",
   "execution_count": 3,
   "id": "cd391695",
   "metadata": {},
   "outputs": [],
   "source": [
    "TESTPATH= r\"C:\\Users\\ahmed\\Desktop\\trigerwords\\data\\test\""
   ]
  },
  {
   "cell_type": "code",
   "execution_count": 166,
   "id": "c98b5a7b",
   "metadata": {},
   "outputs": [],
   "source": [
    "test_csv=pd.read_csv(r\"C:\\Users\\ahmed\\Desktop\\trigerwords\\test.csv\")"
   ]
  },
  {
   "cell_type": "code",
   "execution_count": 167,
   "id": "fe06abf9",
   "metadata": {},
   "outputs": [
    {
     "data": {
      "text/html": [
       "<div>\n",
       "<style scoped>\n",
       "    .dataframe tbody tr th:only-of-type {\n",
       "        vertical-align: middle;\n",
       "    }\n",
       "\n",
       "    .dataframe tbody tr th {\n",
       "        vertical-align: top;\n",
       "    }\n",
       "\n",
       "    .dataframe thead th {\n",
       "        text-align: right;\n",
       "    }\n",
       "</style>\n",
       "<table border=\"1\" class=\"dataframe\">\n",
       "  <thead>\n",
       "    <tr style=\"text-align: right;\">\n",
       "      <th></th>\n",
       "      <th>id</th>\n",
       "    </tr>\n",
       "  </thead>\n",
       "  <tbody>\n",
       "    <tr>\n",
       "      <th>0</th>\n",
       "      <td>4s8mxnikbt0f61qu2ea5</td>\n",
       "    </tr>\n",
       "    <tr>\n",
       "      <th>1</th>\n",
       "      <td>wcr5syvak4mq0tozn6i3d</td>\n",
       "    </tr>\n",
       "    <tr>\n",
       "      <th>2</th>\n",
       "      <td>qt6vl4jushkf7g5webcym</td>\n",
       "    </tr>\n",
       "    <tr>\n",
       "      <th>3</th>\n",
       "      <td>i84wvt3sa7golhud9x1f</td>\n",
       "    </tr>\n",
       "    <tr>\n",
       "      <th>4</th>\n",
       "      <td>o6013rbhaz94tlqmg8nc</td>\n",
       "    </tr>\n",
       "  </tbody>\n",
       "</table>\n",
       "</div>"
      ],
      "text/plain": [
       "                      id\n",
       "0   4s8mxnikbt0f61qu2ea5\n",
       "1  wcr5syvak4mq0tozn6i3d\n",
       "2  qt6vl4jushkf7g5webcym\n",
       "3   i84wvt3sa7golhud9x1f\n",
       "4   o6013rbhaz94tlqmg8nc"
      ]
     },
     "execution_count": 167,
     "metadata": {},
     "output_type": "execute_result"
    }
   ],
   "source": [
    "test_csv.head()"
   ]
  },
  {
   "cell_type": "markdown",
   "id": "f11c887c",
   "metadata": {},
   "source": [
    "# Preprocessing and modeling the data"
   ]
  },
  {
   "cell_type": "code",
   "execution_count": 6,
   "id": "e129d8f9",
   "metadata": {},
   "outputs": [
    {
     "name": "stdout",
     "output_type": "stream",
     "text": [
      "['0mbsexwoja8u4n12v5ql.wav', '0p5dwnmxgabovt8u4hrf.wav', '0tjkrsnv1lfcub7hp5ex2.wav', '0y4whrmeixdalkz8s6bju.wav', '1t6w3k05q7j8clfmy9ug.wav', '2glnftjbpehdy7xi953a.wav', '2jgkywshetpr43xdabn7.wav', '32bixqwuv5anmtgzl8cj.wav', '3kp695hfniwozetu0aqrg.wav', '3xpvqgtyd9ucwmk6bof4.wav', '3zebh15sl6djpx4ri7g0u.wav', '41g2s8z3i7dkhfwtyoul0.wav', '43kjhxb2d9qpmatrv51e.wav', '46khm1wtnip8zeb7doj0.wav', '4eh591vt6x2surm08l3o.wav', '4nt1978i5lmdk36pz2yxh.wav', '4pg0yrcdhjvo73mtanxf.wav', '4q67nahyc3gm2xerd9su.wav', '4qktn8a5f0jcbev1irldx.wav', '5dqlz0onixs9phy2vwm1b.wav', '5e842oanxf379huk0g6c.wav', '5iaso8rzd7pfexyvuk1jn.wav', '5vnh0ky62o9d4sm8xbgzt.wav', '5wt2u8abqh3lds4k9ivj.wav', '64gqyv7n3ksmirj0lp9t1.wav', '67crbeaq5diwjmtvpzxs0.wav', '6fbgkadenil574two32h.wav', '6fu2bqt759is1yh38vo0.wav', '6zub4xg3ij7daqf91lwyc.wav', '71srdp82j6xick4ovl9z.wav', '7rni6fcob13metld9auv.wav', '7rvnxekopwi81b3c6fsd.wav', '7xbwc2u3o8fiyhgrzqsv1.wav', '7xyjhfudqg81bz2lot36k.wav', '83nitwe2cp5f1bjr07zs.wav', '85zflc2boiypd1e4gjkx.wav', '8veb3dpqyl9n0fxs6m214.wav', '90b6ciwo78v5etprzq2h.wav', '96kux8gnc024dbl3emw5.wav', '97fic3rxubmq0np82dzs.wav', '9f1246xmoebrjwg8z3au0.wav', '9mf72d05rogbakpevnuy.wav', '9p0ft7drzu2giev8hj5ol.wav', 'a0ibmgz97k6dc24ornqu.wav', 'a1mk98di42u7gtcw6xsb.wav', 'a3tqxrhku5ds4pg2fzi7j.wav', 'a542mzvilbsopjxc0wd19.wav', 'ae37swlpt9o4i1hcmnjz.wav', 'aiqtebv647zwhr8jxo2nc.wav', 'aqk2v9cxyzf534gp17ur.wav', 'as184dmcx5pbkjvyr63l.wav', 'b5dnr3fgj0keqlzywuov.wav', 'b7tysvc5j46xqfh3n8le.wav', 'bgwutx0phf3d9zqsrij2n.wav', 'dyg10k4t9chj8z65s2xai.wav', 'e1zqlc780knoasp269ui5.wav', 'e94dqf6wo3xmzthas0gyj.wav', 'e9bwha2fi83un5vpjqm7.wav', 'erqy50kcxdol1hj37z2p.wav', 'ex7p8cfjd96yq32ukiha.wav', 'fznl3vs67m1i2praw5c9.wav', 'g0ady76kcvzqmonfuprs.wav', 'gdoaz102l67c8qif3jtru.wav', 'gj8rfxzae4vibtohk62n1.wav', 'gudj6np7lx4ov5a9y3wq.wav', 'h64mw5vy1rsd7zb3ktloe.wav', 'h8kqe73wci60nzxgolmt.wav', 'hav549bjs2md7gnul1f0.wav', 'huk6vq0ezb4yi31a7tco.wav', 'i589pr1ytwjuvs4gb6aeh.wav', 'i8p2zynv6x9jhtf0qo31.wav', 'ifn9tvpz85hk6ylrd2x4.wav', 'ipqsw02ygnvt6lceb893.wav', 'ium9jpyr47tas6wk53zqv.wav', 'j16odbp2yf90av74huwm3.wav', 'jfdpibx796r8sg3a0meu.wav', 'jkfnp8dxt1cgar0bwsy7v.wav', 'jpqly8z20duht49k35g6.wav', 'jvi952304oykbnzdfc8x.wav', 'jx6rpt93yiobdum0h85k.wav', 'k1azgsv672tyiwmjcbun.wav', 'k1xcfnu6vwm3p8y5lior2.wav', 'k3c7sizr2qu8voy5n9fel.wav', 'kb13hn6tycplg0serixqv.wav', 'ki5j0nc4mt916pyq8xae.wav', 'l0g1wy8km2zav9uqt54fe.wav', 'l2ai5jk3x1ndvq9ec70h.wav', 'lwh2pk84idrb6oj1zx9n.wav', 'lwrk9bfnxqdsz26cv74u.wav', 'mc9ipjek5wl16v3nbyzht.wav', 'merz5uvxsi6khg2t7w3c1.wav', 'mg64xzop9lcu5fsqenbji.wav', 'mi2z51y4jb7thxuf8ldr.wav', 'mtjpl9es81a5fq60xuhgi.wav', 'mx0bfkrv73pe1utl98o5.wav', 'nexv1wq407sropj2kfcb.wav', 'niayku7teh3dx9p1w26cf.wav', 'nkpyoaxbzi4ftv62cd98g.wav', 'nye6qdsxliajo8u9c13fw.wav', 'oktl0q8ams43g7x6yzc5.wav', 'orc5736zwnkxygl4spva.wav', 'p0ve1ctismzj2bok8uy7x.wav', 'p183dkfqu4g7lwhjroa2z.wav', 'p4ezmaigny0q7623xdsck.wav', 'p6uj30stoe2m4rw7hklnc.wav', 'pawvn13c6blij0xr4fmt.wav', 'pbzchw4yx5sno76tagljv.wav', 'pcvug3t4y6rf9i1loez8.wav', 'pqug0ae43bl8txj9d1nw7.wav', 'pyjvr51h8lea7364w0io.wav', 'q7o5hc8zj9kfmltysauxv.wav', 'qh68nxu2f7jwaygz9i5sm.wav', 'quyphl4w5ev80nsm1ji3.wav', 'r7lwo34b5esfg1x6jmha.wav', 'r7wu3tfyjblxea5izdmc.wav', 'rjky97nic5qs08mblv2gh.wav', 's2yb1ncklj4vez7h0o9if.wav', 'sf97c8u2nx4lt0emghdy.wav', 'swb70co9qe3z6dhxfgjp.wav', 'tg7zmjcape84o1n9xl2di.wav', 'tgwadv895fnexiu4rk3l.wav', 'tlaxh2br0ofdpsemn8i14.wav', 'uh9kxpgze8w106mtnc27.wav', 'ulcdyxnbz6jqh9wmk4pa.wav', 'uqz1nryvafelh7s0dkgoi.wav', 'usq3dr0jf5elpg28hovw.wav', 'uwa81cpj4lktg26n30bhd.wav', 'uxmpzws120lvtq38nhgda.wav', 'v7n5hl83wjqtrgabmszd0.wav', 'va0tkxbfo6yhduq7g13m.wav', 'val6phx5r27qfidz3480s.wav', 'vf1wir9dj8kc0puh7246q.wav', 'vyxf60zbo87nlgcu542tm.wav', 'w1pkgjvey6om3s5zh2btf.wav', 'wxt1zqhpyjfoui340vge8.wav', 'xk8t2un3s0opr19cgl6j.wav', 'xoej05l8ybi69gws1q7k.wav', 'xpc4d8ozhv6altisy20j.wav', 'yj6tck1siob8ruqlae9mv.wav', 'ymb2dcs8hurol5jn4z79e.wav', 'z1waenbfltdk4qh253pm.wav', 'z69homd2bfsiljpxcqe5.wav', 'ziuab84tvf07snxjhyodp.wav', 'zpg7fva8em64wrxtioc5y.wav']\n"
     ]
    }
   ],
   "source": [
    "train_file_names = tf.io.gfile.listdir(str(TRAINPATH))\n",
    "print(train_file_names)"
   ]
  },
  {
   "cell_type": "code",
   "execution_count": 7,
   "id": "b60d5cd8",
   "metadata": {},
   "outputs": [],
   "source": [
    "test_file_names = tf.io.gfile.listdir(str(TESTPATH))"
   ]
  },
  {
   "cell_type": "code",
   "execution_count": 21,
   "id": "07d06e40",
   "metadata": {},
   "outputs": [],
   "source": [
    "#function to trun our wav type data to arrays using te library librosa\n",
    "def audio_to_array(file , semipath ):\n",
    "    x,_ = librosa.load(semipath +r\"\\\\\" +file, sr=3000)\n",
    "    x=(x-min(x))/(max(x)-min(x))\n",
    "    return x.astype(np.float16)"
   ]
  },
  {
   "cell_type": "code",
   "execution_count": 12,
   "id": "a5d7fc4d",
   "metadata": {},
   "outputs": [
    {
     "data": {
      "text/plain": [
       "array([0.505 , 0.506 , 0.504 , ..., 0.4028, 0.5474, 0.5605], dtype=float16)"
      ]
     },
     "execution_count": 12,
     "metadata": {},
     "output_type": "execute_result"
    }
   ],
   "source": [
    "#for example \n",
    "audio_to_array(\"ulcdyxnbz6jqh9wmk4pa.wav\" ,TRAINPATH)"
   ]
  },
  {
   "cell_type": "code",
   "execution_count": 23,
   "id": "78912b1a",
   "metadata": {},
   "outputs": [
    {
     "data": {
      "text/plain": [
       "0"
      ]
     },
     "execution_count": 23,
     "metadata": {},
     "output_type": "execute_result"
    }
   ],
   "source": [
    "train_csv['label'].isna().sum()"
   ]
  },
  {
   "cell_type": "code",
   "execution_count": 161,
   "id": "fa12d87a",
   "metadata": {},
   "outputs": [
    {
     "data": {
      "text/plain": [
       "0       gudj6np7lx4ov5a9y3wq\n",
       "1       mi2z51y4jb7thxuf8ldr\n",
       "2      ziuab84tvf07snxjhyodp\n",
       "3       ulcdyxnbz6jqh9wmk4pa\n",
       "4      gj8rfxzae4vibtohk62n1\n",
       "               ...          \n",
       "139     pyjvr51h8lea7364w0io\n",
       "140    nkpyoaxbzi4ftv62cd98g\n",
       "141     97fic3rxubmq0np82dzs\n",
       "142     fznl3vs67m1i2praw5c9\n",
       "143     7rni6fcob13metld9auv\n",
       "Name: id, Length: 144, dtype: object"
      ]
     },
     "execution_count": 161,
     "metadata": {},
     "output_type": "execute_result"
    }
   ],
   "source": [
    "train_csv['id']"
   ]
  },
  {
   "cell_type": "code",
   "execution_count": 168,
   "id": "661e6865",
   "metadata": {},
   "outputs": [
    {
     "data": {
      "text/plain": [
       "0       gudj6np7lx4ov5a9y3wq.wav\n",
       "1       mi2z51y4jb7thxuf8ldr.wav\n",
       "2      ziuab84tvf07snxjhyodp.wav\n",
       "3       ulcdyxnbz6jqh9wmk4pa.wav\n",
       "4      gj8rfxzae4vibtohk62n1.wav\n",
       "                 ...            \n",
       "139     pyjvr51h8lea7364w0io.wav\n",
       "140    nkpyoaxbzi4ftv62cd98g.wav\n",
       "141     97fic3rxubmq0np82dzs.wav\n",
       "142     fznl3vs67m1i2praw5c9.wav\n",
       "143     7rni6fcob13metld9auv.wav\n",
       "Name: id, Length: 144, dtype: object"
      ]
     },
     "execution_count": 168,
     "metadata": {},
     "output_type": "execute_result"
    }
   ],
   "source": [
    "train_csv['id'] =train_csv['id'].astype(str)+'.wav'  # so it would be valid as an argument by our function audio_to_array\n",
    "train_csv['id']"
   ]
  },
  {
   "cell_type": "code",
   "execution_count": 25,
   "id": "77475f03",
   "metadata": {},
   "outputs": [],
   "source": [
    "test_csv['id'] =test_csv['id'].astype(str)+'.wav'"
   ]
  },
  {
   "cell_type": "code",
   "execution_count": 26,
   "id": "1bffb069",
   "metadata": {},
   "outputs": [
    {
     "data": {
      "text/plain": [
       "8960"
      ]
     },
     "execution_count": 26,
     "metadata": {},
     "output_type": "execute_result"
    }
   ],
   "source": [
    "max_length = 0\n",
    "for file in train_file_names :\n",
    "    if len(audio_to_array(file , TRAINPATH ))>max_length:\n",
    "        max_length= len(audio_to_array(file,TRAINPATH ))\n",
    "max_length #of our train arrays"
   ]
  },
  {
   "cell_type": "code",
   "execution_count": 169,
   "id": "2878191d",
   "metadata": {},
   "outputs": [],
   "source": [
    "#lets create our train set \n",
    "x_train=[]\n",
    "y_train=[]\n",
    "c=0\n",
    "for file in train_file_names :\n",
    "    #a padding to the max lenght of our train arrays so that they have the same size then reshaping and appending to train set\n",
    "    x_train.append(np.pad(audio_to_array(file , TRAINPATH),(0,max_length-len(audio_to_array(file , TRAINPATH))),'constant').reshape(1,max_length))\n",
    "    c+=1\n",
    "    for aud in train_csv['id'] :\n",
    "        if file ==  aud :\n",
    "            #appending labels as well \n",
    "            y_train.append(int(train_csv.loc[train_csv[\"id\"] == aud , \"label\"]))\n",
    "            \n",
    "        \n",
    "    "
   ]
  },
  {
   "cell_type": "code",
   "execution_count": 170,
   "id": "be665aee",
   "metadata": {},
   "outputs": [
    {
     "data": {
      "text/plain": [
       "[array([[0.521, 0.521, 0.521, ..., 0.   , 0.   , 0.   ]], dtype=float16),\n",
       " array([[0.4092, 0.4092, 0.4092, ..., 0.    , 0.    , 0.    ]],\n",
       "       dtype=float16),\n",
       " array([[0.5835, 0.5835, 0.5835, ..., 0.    , 0.    , 0.    ]],\n",
       "       dtype=float16),\n",
       " array([[0.573, 0.573, 0.573, ..., 0.   , 0.   , 0.   ]], dtype=float16),\n",
       " array([[0.5093, 0.5093, 0.5093, ..., 0.    , 0.    , 0.    ]],\n",
       "       dtype=float16),\n",
       " array([[0.4966, 0.4966, 0.4966, ..., 0.    , 0.    , 0.    ]],\n",
       "       dtype=float16),\n",
       " array([[0.485, 0.485, 0.485, ..., 0.   , 0.   , 0.   ]], dtype=float16),\n",
       " array([[0.422, 0.422, 0.422, ..., 0.   , 0.   , 0.   ]], dtype=float16),\n",
       " array([[0.558, 0.558, 0.558, ..., 0.   , 0.   , 0.   ]], dtype=float16),\n",
       " array([[0.5425, 0.5425, 0.5425, ..., 0.    , 0.    , 0.    ]],\n",
       "       dtype=float16),\n",
       " array([[0.5605, 0.5605, 0.5605, ..., 0.    , 0.    , 0.    ]],\n",
       "       dtype=float16),\n",
       " array([[0.4685, 0.4685, 0.4685, ..., 0.    , 0.    , 0.    ]],\n",
       "       dtype=float16),\n",
       " array([[0.4717, 0.4717, 0.4717, ..., 0.    , 0.    , 0.    ]],\n",
       "       dtype=float16),\n",
       " array([[0.5337, 0.5337, 0.5337, ..., 0.    , 0.    , 0.    ]],\n",
       "       dtype=float16),\n",
       " array([[0.4182, 0.4182, 0.4182, ..., 0.    , 0.    , 0.    ]],\n",
       "       dtype=float16),\n",
       " array([[0.4583, 0.4583, 0.4583, ..., 0.    , 0.    , 0.    ]],\n",
       "       dtype=float16),\n",
       " array([[0.4912, 0.4912, 0.4912, ..., 0.    , 0.    , 0.    ]],\n",
       "       dtype=float16),\n",
       " array([[0.5, 0.5, 0.5, ..., 0. , 0. , 0. ]], dtype=float16),\n",
       " array([[0.502 , 0.501 , 0.5015, ..., 0.    , 0.    , 0.    ]],\n",
       "       dtype=float16),\n",
       " array([[0.2167, 0.2167, 0.2167, ..., 0.    , 0.    , 0.    ]],\n",
       "       dtype=float16),\n",
       " array([[0.514, 0.514, 0.514, ..., 0.   , 0.   , 0.   ]], dtype=float16),\n",
       " array([[0.442, 0.442, 0.442, ..., 0.   , 0.   , 0.   ]], dtype=float16),\n",
       " array([[0.4797, 0.4797, 0.4797, ..., 0.    , 0.    , 0.    ]],\n",
       "       dtype=float16),\n",
       " array([[0.4863, 0.4863, 0.4863, ..., 0.    , 0.    , 0.    ]],\n",
       "       dtype=float16),\n",
       " array([[0.4834, 0.4834, 0.4834, ..., 0.    , 0.    , 0.    ]],\n",
       "       dtype=float16),\n",
       " array([[0.5625, 0.5625, 0.5625, ..., 0.    , 0.    , 0.    ]],\n",
       "       dtype=float16),\n",
       " array([[0.473, 0.473, 0.473, ..., 0.   , 0.   , 0.   ]], dtype=float16),\n",
       " array([[0.311, 0.311, 0.311, ..., 0.   , 0.   , 0.   ]], dtype=float16),\n",
       " array([[0.532, 0.532, 0.532, ..., 0.   , 0.   , 0.   ]], dtype=float16),\n",
       " array([[0.631, 0.631, 0.631, ..., 0.   , 0.   , 0.   ]], dtype=float16),\n",
       " array([[0.5425, 0.5425, 0.5425, ..., 0.    , 0.    , 0.    ]],\n",
       "       dtype=float16),\n",
       " array([[0.308, 0.308, 0.308, ..., 0.   , 0.   , 0.   ]], dtype=float16),\n",
       " array([[0.47, 0.47, 0.47, ..., 0.  , 0.  , 0.  ]], dtype=float16),\n",
       " array([[0.6426, 0.6426, 0.6426, ..., 0.6436, 0.642 , 0.641 ]],\n",
       "       dtype=float16),\n",
       " array([[0.4778, 0.4778, 0.4778, ..., 0.    , 0.    , 0.    ]],\n",
       "       dtype=float16),\n",
       " array([[0.532, 0.532, 0.532, ..., 0.   , 0.   , 0.   ]], dtype=float16),\n",
       " array([[0.585, 0.585, 0.585, ..., 0.   , 0.   , 0.   ]], dtype=float16),\n",
       " array([[0.592, 0.592, 0.592, ..., 0.   , 0.   , 0.   ]], dtype=float16),\n",
       " array([[0.4692, 0.4692, 0.4692, ..., 0.    , 0.    , 0.    ]],\n",
       "       dtype=float16),\n",
       " array([[0.6147, 0.6147, 0.6147, ..., 0.    , 0.    , 0.    ]],\n",
       "       dtype=float16),\n",
       " array([[0.4854, 0.4854, 0.4854, ..., 0.    , 0.    , 0.    ]],\n",
       "       dtype=float16),\n",
       " array([[0.473, 0.473, 0.473, ..., 0.   , 0.   , 0.   ]], dtype=float16),\n",
       " array([[0.4604, 0.4604, 0.4604, ..., 0.    , 0.    , 0.    ]],\n",
       "       dtype=float16),\n",
       " array([[0.476, 0.476, 0.476, ..., 0.   , 0.   , 0.   ]], dtype=float16),\n",
       " array([[0.4668, 0.4668, 0.4668, ..., 0.    , 0.    , 0.    ]],\n",
       "       dtype=float16),\n",
       " array([[0.489 , 0.4885, 0.4883, ..., 0.    , 0.    , 0.    ]],\n",
       "       dtype=float16),\n",
       " array([[0.627 , 0.627 , 0.627 , ..., 0.6196, 0.6187, 0.6235]],\n",
       "       dtype=float16),\n",
       " array([[0.517 , 0.5317, 0.5273, ..., 0.    , 0.    , 0.    ]],\n",
       "       dtype=float16),\n",
       " array([[0.4502, 0.4504, 0.4507, ..., 0.    , 0.    , 0.    ]],\n",
       "       dtype=float16),\n",
       " array([[0.5356, 0.535 , 0.535 , ..., 0.    , 0.    , 0.    ]],\n",
       "       dtype=float16),\n",
       " array([[0.4675, 0.4675, 0.4675, ..., 0.    , 0.    , 0.    ]],\n",
       "       dtype=float16),\n",
       " array([[0.4426, 0.4426, 0.4426, ..., 0.4426, 0.4426, 0.4426]],\n",
       "       dtype=float16),\n",
       " array([[0.5815, 0.5815, 0.5815, ..., 0.    , 0.    , 0.    ]],\n",
       "       dtype=float16),\n",
       " array([[0.54, 0.54, 0.54, ..., 0.  , 0.  , 0.  ]], dtype=float16),\n",
       " array([[0.4004, 0.4004, 0.4004, ..., 0.    , 0.    , 0.    ]],\n",
       "       dtype=float16),\n",
       " array([[0.527, 0.527, 0.527, ..., 0.   , 0.   , 0.   ]], dtype=float16),\n",
       " array([[0.4402, 0.4402, 0.4402, ..., 0.    , 0.    , 0.    ]],\n",
       "       dtype=float16),\n",
       " array([[0.5156, 0.5156, 0.5156, ..., 0.    , 0.    , 0.    ]],\n",
       "       dtype=float16),\n",
       " array([[0.2568, 0.2568, 0.2568, ..., 0.    , 0.    , 0.    ]],\n",
       "       dtype=float16),\n",
       " array([[0.5176, 0.469 , 0.47  , ..., 0.    , 0.    , 0.    ]],\n",
       "       dtype=float16),\n",
       " array([[0.542, 0.542, 0.542, ..., 0.   , 0.   , 0.   ]], dtype=float16),\n",
       " array([[0.615, 0.615, 0.615, ..., 0.   , 0.   , 0.   ]], dtype=float16),\n",
       " array([[0.4395, 0.4395, 0.4395, ..., 0.    , 0.    , 0.    ]],\n",
       "       dtype=float16),\n",
       " array([[0.4016, 0.4016, 0.4016, ..., 0.    , 0.    , 0.    ]],\n",
       "       dtype=float16),\n",
       " array([[0.6343, 0.6343, 0.6343, ..., 0.    , 0.    , 0.    ]],\n",
       "       dtype=float16),\n",
       " array([[0.3657, 0.3657, 0.3657, ..., 0.    , 0.    , 0.    ]],\n",
       "       dtype=float16),\n",
       " array([[0.2805, 0.2805, 0.2805, ..., 0.    , 0.    , 0.    ]],\n",
       "       dtype=float16),\n",
       " array([[0.416, 0.416, 0.416, ..., 0.   , 0.   , 0.   ]], dtype=float16),\n",
       " array([[0.483, 0.483, 0.483, ..., 0.   , 0.   , 0.   ]], dtype=float16),\n",
       " array([[0.5044, 0.505 , 0.504 , ..., 0.    , 0.    , 0.    ]],\n",
       "       dtype=float16),\n",
       " array([[0.598, 0.598, 0.598, ..., 0.   , 0.   , 0.   ]], dtype=float16),\n",
       " array([[0.4583, 0.4583, 0.4583, ..., 0.    , 0.    , 0.    ]],\n",
       "       dtype=float16),\n",
       " array([[0.401, 0.401, 0.401, ..., 0.   , 0.   , 0.   ]], dtype=float16),\n",
       " array([[0.4558, 0.484 , 0.4675, ..., 0.    , 0.    , 0.    ]],\n",
       "       dtype=float16),\n",
       " array([[0.3733, 0.3733, 0.3733, ..., 0.    , 0.    , 0.    ]],\n",
       "       dtype=float16),\n",
       " array([[0.6196, 0.6196, 0.6196, ..., 0.    , 0.    , 0.    ]],\n",
       "       dtype=float16),\n",
       " array([[0.546, 0.546, 0.546, ..., 0.   , 0.   , 0.   ]], dtype=float16),\n",
       " array([[0.4653, 0.4653, 0.4653, ..., 0.    , 0.    , 0.    ]],\n",
       "       dtype=float16),\n",
       " array([[0.5283, 0.528 , 0.5264, ..., 0.    , 0.    , 0.    ]],\n",
       "       dtype=float16),\n",
       " array([[0.535, 0.535, 0.535, ..., 0.   , 0.   , 0.   ]], dtype=float16),\n",
       " array([[0.58, 0.58, 0.58, ..., 0.  , 0.  , 0.  ]], dtype=float16),\n",
       " array([[0.531, 0.531, 0.531, ..., 0.   , 0.   , 0.   ]], dtype=float16),\n",
       " array([[0.537, 0.537, 0.537, ..., 0.   , 0.   , 0.   ]], dtype=float16),\n",
       " array([[0.4932, 0.4932, 0.4932, ..., 0.    , 0.    , 0.    ]],\n",
       "       dtype=float16),\n",
       " array([[0.4446, 0.4446, 0.4446, ..., 0.4448, 0.4458, 0.4456]],\n",
       "       dtype=float16),\n",
       " array([[0.424, 0.424, 0.424, ..., 0.   , 0.   , 0.   ]], dtype=float16),\n",
       " array([[0.516, 0.516, 0.516, ..., 0.   , 0.   , 0.   ]], dtype=float16),\n",
       " array([[0.477, 0.477, 0.477, ..., 0.   , 0.   , 0.   ]], dtype=float16),\n",
       " array([[0.4597, 0.4597, 0.4597, ..., 0.    , 0.    , 0.    ]],\n",
       "       dtype=float16),\n",
       " array([[0.4463, 0.4495, 0.44  , ..., 0.    , 0.    , 0.    ]],\n",
       "       dtype=float16),\n",
       " array([[0.43, 0.43, 0.43, ..., 0.  , 0.  , 0.  ]], dtype=float16),\n",
       " array([[0.512, 0.512, 0.512, ..., 0.   , 0.   , 0.   ]], dtype=float16),\n",
       " array([[0.2888, 0.2888, 0.2888, ..., 0.    , 0.    , 0.    ]],\n",
       "       dtype=float16),\n",
       " array([[0.4487, 0.4487, 0.4487, ..., 0.    , 0.    , 0.    ]],\n",
       "       dtype=float16),\n",
       " array([[0.5366, 0.5366, 0.5366, ..., 0.    , 0.    , 0.    ]],\n",
       "       dtype=float16),\n",
       " array([[0.542, 0.542, 0.542, ..., 0.   , 0.   , 0.   ]], dtype=float16),\n",
       " array([[0.522, 0.522, 0.522, ..., 0.   , 0.   , 0.   ]], dtype=float16),\n",
       " array([[0.5303, 0.5303, 0.5303, ..., 0.    , 0.    , 0.    ]],\n",
       "       dtype=float16),\n",
       " array([[0.3245, 0.3245, 0.3245, ..., 0.    , 0.    , 0.    ]],\n",
       "       dtype=float16),\n",
       " array([[0.501 , 0.5425, 0.511 , ..., 0.    , 0.    , 0.    ]],\n",
       "       dtype=float16),\n",
       " array([[0.553, 0.553, 0.553, ..., 0.   , 0.   , 0.   ]], dtype=float16),\n",
       " array([[0.4211, 0.4211, 0.4211, ..., 0.    , 0.    , 0.    ]],\n",
       "       dtype=float16),\n",
       " array([[0.463, 0.463, 0.463, ..., 0.   , 0.   , 0.   ]], dtype=float16),\n",
       " array([[0.325, 0.325, 0.325, ..., 0.   , 0.   , 0.   ]], dtype=float16),\n",
       " array([[0.434, 0.434, 0.434, ..., 0.   , 0.   , 0.   ]], dtype=float16),\n",
       " array([[0.5015, 0.5015, 0.5015, ..., 0.    , 0.    , 0.    ]],\n",
       "       dtype=float16),\n",
       " array([[0.4016, 0.4016, 0.4016, ..., 0.    , 0.    , 0.    ]],\n",
       "       dtype=float16),\n",
       " array([[0.4607, 0.4607, 0.4607, ..., 0.    , 0.    , 0.    ]],\n",
       "       dtype=float16),\n",
       " array([[0.5337, 0.5337, 0.5337, ..., 0.    , 0.    , 0.    ]],\n",
       "       dtype=float16),\n",
       " array([[0.6006, 0.6006, 0.6006, ..., 0.    , 0.    , 0.    ]],\n",
       "       dtype=float16),\n",
       " array([[0.493 , 0.4958, 0.4927, ..., 0.    , 0.    , 0.    ]],\n",
       "       dtype=float16),\n",
       " array([[0.4863, 0.4863, 0.4863, ..., 0.    , 0.    , 0.    ]],\n",
       "       dtype=float16),\n",
       " array([[0.4426, 0.4426, 0.4426, ..., 0.    , 0.    , 0.    ]],\n",
       "       dtype=float16),\n",
       " array([[0.5483, 0.5483, 0.5483, ..., 0.    , 0.    , 0.    ]],\n",
       "       dtype=float16),\n",
       " array([[0.557, 0.557, 0.557, ..., 0.   , 0.   , 0.   ]], dtype=float16),\n",
       " array([[0.4116, 0.4116, 0.4116, ..., 0.    , 0.    , 0.    ]],\n",
       "       dtype=float16),\n",
       " array([[0.5635, 0.5635, 0.5635, ..., 0.    , 0.    , 0.    ]],\n",
       "       dtype=float16),\n",
       " array([[0.3738, 0.3738, 0.3738, ..., 0.    , 0.    , 0.    ]],\n",
       "       dtype=float16),\n",
       " array([[0.515 , 0.5176, 0.5225, ..., 0.    , 0.    , 0.    ]],\n",
       "       dtype=float16),\n",
       " array([[0.547, 0.547, 0.547, ..., 0.   , 0.   , 0.   ]], dtype=float16),\n",
       " array([[0.499, 0.499, 0.499, ..., 0.   , 0.   , 0.   ]], dtype=float16),\n",
       " array([[0.427, 0.427, 0.427, ..., 0.   , 0.   , 0.   ]], dtype=float16),\n",
       " array([[0.4734, 0.4734, 0.4734, ..., 0.    , 0.    , 0.    ]],\n",
       "       dtype=float16),\n",
       " array([[0.505, 0.506, 0.504, ..., 0.   , 0.   , 0.   ]], dtype=float16),\n",
       " array([[0.532, 0.532, 0.532, ..., 0.   , 0.   , 0.   ]], dtype=float16),\n",
       " array([[0.5146, 0.5146, 0.5146, ..., 0.    , 0.    , 0.    ]],\n",
       "       dtype=float16),\n",
       " array([[0.4888, 0.4888, 0.4888, ..., 0.    , 0.    , 0.    ]],\n",
       "       dtype=float16),\n",
       " array([[0.6377, 0.6377, 0.6377, ..., 0.    , 0.    , 0.    ]],\n",
       "       dtype=float16),\n",
       " array([[0.5493, 0.5493, 0.5493, ..., 0.5503, 0.55  , 0.5493]],\n",
       "       dtype=float16),\n",
       " array([[0.5044, 0.5044, 0.5044, ..., 0.    , 0.    , 0.    ]],\n",
       "       dtype=float16),\n",
       " array([[0.4324, 0.4324, 0.4324, ..., 0.4268, 0.4382, 0.4446]],\n",
       "       dtype=float16),\n",
       " array([[0.514, 0.514, 0.514, ..., 0.   , 0.   , 0.   ]], dtype=float16),\n",
       " array([[0.5283, 0.523 , 0.5166, ..., 0.    , 0.    , 0.    ]],\n",
       "       dtype=float16),\n",
       " array([[0.463 , 0.4602, 0.4624, ..., 0.    , 0.    , 0.    ]],\n",
       "       dtype=float16),\n",
       " array([[0.5303, 0.5303, 0.5303, ..., 0.    , 0.    , 0.    ]],\n",
       "       dtype=float16),\n",
       " array([[0.6343, 0.6343, 0.6343, ..., 0.    , 0.    , 0.    ]],\n",
       "       dtype=float16),\n",
       " array([[0.4634, 0.4634, 0.4634, ..., 0.    , 0.    , 0.    ]],\n",
       "       dtype=float16),\n",
       " array([[0.593, 0.593, 0.593, ..., 0.   , 0.   , 0.   ]], dtype=float16),\n",
       " array([[0.541, 0.541, 0.541, ..., 0.   , 0.   , 0.   ]], dtype=float16),\n",
       " array([[0.5234, 0.5234, 0.5234, ..., 0.    , 0.    , 0.    ]],\n",
       "       dtype=float16),\n",
       " array([[0.4924, 0.4924, 0.4924, ..., 0.    , 0.    , 0.    ]],\n",
       "       dtype=float16),\n",
       " array([[0.4868, 0.4868, 0.4868, ..., 0.    , 0.    , 0.    ]],\n",
       "       dtype=float16),\n",
       " array([[0.4512, 0.4512, 0.4512, ..., 0.    , 0.    , 0.    ]],\n",
       "       dtype=float16),\n",
       " array([[0.4617, 0.4617, 0.4617, ..., 0.    , 0.    , 0.    ]],\n",
       "       dtype=float16)]"
      ]
     },
     "execution_count": 170,
     "metadata": {},
     "output_type": "execute_result"
    }
   ],
   "source": [
    "x_train"
   ]
  },
  {
   "cell_type": "code",
   "execution_count": 33,
   "id": "2a6e33ad",
   "metadata": {},
   "outputs": [],
   "source": [
    "#same for the test set\n",
    "x_test=[]\n",
    "for file in test_file_names :\n",
    "    x_test.append(np.pad(audio_to_array(file , TESTPATH),(0,max_length-len(audio_to_array(file , TESTPATH))),'constant').reshape(1,max_length))"
   ]
  },
  {
   "cell_type": "code",
   "execution_count": 171,
   "id": "86e6f0f5",
   "metadata": {},
   "outputs": [],
   "source": [
    "x_train=np.array(x_train)\n",
    "y_train=np.array(y_train)\n",
    "x_test=np.array(x_test)"
   ]
  },
  {
   "cell_type": "code",
   "execution_count": 47,
   "id": "525e9a27",
   "metadata": {},
   "outputs": [
    {
     "data": {
      "text/plain": [
       "(82, 1, 8960)"
      ]
     },
     "execution_count": 47,
     "metadata": {},
     "output_type": "execute_result"
    }
   ],
   "source": [
    "x_test.shape"
   ]
  },
  {
   "cell_type": "code",
   "execution_count": 46,
   "id": "9dcaef9d",
   "metadata": {},
   "outputs": [
    {
     "data": {
      "text/plain": [
       "(144, 1, 8960)"
      ]
     },
     "execution_count": 46,
     "metadata": {},
     "output_type": "execute_result"
    }
   ],
   "source": [
    "x_train.shape"
   ]
  },
  {
   "cell_type": "code",
   "execution_count": 72,
   "id": "758453e5",
   "metadata": {},
   "outputs": [],
   "source": [
    "x_train=x_train.reshape((-1,8960,1))"
   ]
  },
  {
   "cell_type": "code",
   "execution_count": 73,
   "id": "4406f910",
   "metadata": {},
   "outputs": [],
   "source": [
    "x_test=x_test.reshape((-1,8960,1))"
   ]
  },
  {
   "cell_type": "code",
   "execution_count": 172,
   "id": "1568ee8c",
   "metadata": {},
   "outputs": [
    {
     "data": {
      "text/plain": [
       "array([1, 1, 0, 0, 1, 1, 1, 1, 0, 1, 0, 0, 1, 1, 1, 0, 1, 1, 0, 0, 1, 0,\n",
       "       0, 1, 0, 0, 1, 1, 0, 1, 1, 1, 0, 0, 1, 1, 0, 1, 1, 1, 0, 1, 0, 1,\n",
       "       1, 0, 0, 1, 0, 1, 1, 1, 1, 0, 0, 0, 0, 1, 1, 1, 1, 1, 0, 0, 1, 0,\n",
       "       1, 1, 1, 0, 1, 1, 1, 0, 0, 1, 0, 1, 1, 1, 1, 0, 0, 0, 1, 0, 1, 1,\n",
       "       1, 0, 0, 0, 1, 0, 1, 1, 0, 0, 0, 1, 1, 0, 0, 0, 0, 1, 0, 1, 0, 1,\n",
       "       0, 0, 1, 1, 1, 0, 0, 1, 1, 0, 1, 0, 1, 1, 0, 1, 0, 0, 0, 1, 0, 0,\n",
       "       0, 0, 0, 1, 1, 1, 0, 0, 1, 1, 0, 0])"
      ]
     },
     "execution_count": 172,
     "metadata": {},
     "output_type": "execute_result"
    }
   ],
   "source": [
    "y_train"
   ]
  },
  {
   "cell_type": "code",
   "execution_count": 52,
   "id": "df862b2c",
   "metadata": {},
   "outputs": [],
   "source": [
    "#modeling our labels as follows since we are gonna be using in our model a softmax final activation that outputs 2 values \n",
    "\n",
    "l=[]\n",
    "for i in range(len(y_train)):\n",
    "    if y_train[i][0]==1:\n",
    "        l.append(np.array([0,1]))\n",
    "    else :\n",
    "        l.append(np.array([1,0]))        \n",
    "l=np.array(l)\n",
    "y_train=l"
   ]
  },
  {
   "cell_type": "code",
   "execution_count": 54,
   "id": "ca3aaa0c",
   "metadata": {},
   "outputs": [
    {
     "data": {
      "text/plain": [
       "array([[0, 1],\n",
       "       [0, 1],\n",
       "       [1, 0],\n",
       "       [1, 0],\n",
       "       [0, 1],\n",
       "       [0, 1],\n",
       "       [0, 1],\n",
       "       [0, 1],\n",
       "       [1, 0],\n",
       "       [0, 1],\n",
       "       [1, 0],\n",
       "       [1, 0],\n",
       "       [0, 1],\n",
       "       [0, 1],\n",
       "       [0, 1],\n",
       "       [1, 0],\n",
       "       [0, 1],\n",
       "       [0, 1],\n",
       "       [1, 0],\n",
       "       [1, 0],\n",
       "       [0, 1],\n",
       "       [1, 0],\n",
       "       [1, 0],\n",
       "       [0, 1],\n",
       "       [1, 0],\n",
       "       [1, 0],\n",
       "       [0, 1],\n",
       "       [0, 1],\n",
       "       [1, 0],\n",
       "       [0, 1],\n",
       "       [0, 1],\n",
       "       [0, 1],\n",
       "       [1, 0],\n",
       "       [1, 0],\n",
       "       [0, 1],\n",
       "       [0, 1],\n",
       "       [1, 0],\n",
       "       [0, 1],\n",
       "       [0, 1],\n",
       "       [0, 1],\n",
       "       [1, 0],\n",
       "       [0, 1],\n",
       "       [1, 0],\n",
       "       [0, 1],\n",
       "       [0, 1],\n",
       "       [1, 0],\n",
       "       [1, 0],\n",
       "       [0, 1],\n",
       "       [1, 0],\n",
       "       [0, 1],\n",
       "       [0, 1],\n",
       "       [0, 1],\n",
       "       [0, 1],\n",
       "       [1, 0],\n",
       "       [1, 0],\n",
       "       [1, 0],\n",
       "       [1, 0],\n",
       "       [0, 1],\n",
       "       [0, 1],\n",
       "       [0, 1],\n",
       "       [0, 1],\n",
       "       [0, 1],\n",
       "       [1, 0],\n",
       "       [1, 0],\n",
       "       [0, 1],\n",
       "       [1, 0],\n",
       "       [0, 1],\n",
       "       [0, 1],\n",
       "       [0, 1],\n",
       "       [1, 0],\n",
       "       [0, 1],\n",
       "       [0, 1],\n",
       "       [0, 1],\n",
       "       [1, 0],\n",
       "       [1, 0],\n",
       "       [0, 1],\n",
       "       [1, 0],\n",
       "       [0, 1],\n",
       "       [0, 1],\n",
       "       [0, 1],\n",
       "       [0, 1],\n",
       "       [1, 0],\n",
       "       [1, 0],\n",
       "       [1, 0],\n",
       "       [0, 1],\n",
       "       [1, 0],\n",
       "       [0, 1],\n",
       "       [0, 1],\n",
       "       [0, 1],\n",
       "       [1, 0],\n",
       "       [1, 0],\n",
       "       [1, 0],\n",
       "       [0, 1],\n",
       "       [1, 0],\n",
       "       [0, 1],\n",
       "       [0, 1],\n",
       "       [1, 0],\n",
       "       [1, 0],\n",
       "       [1, 0],\n",
       "       [0, 1],\n",
       "       [0, 1],\n",
       "       [1, 0],\n",
       "       [1, 0],\n",
       "       [1, 0],\n",
       "       [1, 0],\n",
       "       [0, 1],\n",
       "       [1, 0],\n",
       "       [0, 1],\n",
       "       [1, 0],\n",
       "       [0, 1],\n",
       "       [1, 0],\n",
       "       [1, 0],\n",
       "       [0, 1],\n",
       "       [0, 1],\n",
       "       [0, 1],\n",
       "       [1, 0],\n",
       "       [1, 0],\n",
       "       [0, 1],\n",
       "       [0, 1],\n",
       "       [1, 0],\n",
       "       [0, 1],\n",
       "       [1, 0],\n",
       "       [0, 1],\n",
       "       [0, 1],\n",
       "       [1, 0],\n",
       "       [0, 1],\n",
       "       [1, 0],\n",
       "       [1, 0],\n",
       "       [1, 0],\n",
       "       [0, 1],\n",
       "       [1, 0],\n",
       "       [1, 0],\n",
       "       [1, 0],\n",
       "       [1, 0],\n",
       "       [1, 0],\n",
       "       [0, 1],\n",
       "       [0, 1],\n",
       "       [0, 1],\n",
       "       [1, 0],\n",
       "       [1, 0],\n",
       "       [0, 1],\n",
       "       [0, 1],\n",
       "       [1, 0],\n",
       "       [1, 0]])"
      ]
     },
     "execution_count": 54,
     "metadata": {},
     "output_type": "execute_result"
    }
   ],
   "source": [
    "y_train"
   ]
  },
  {
   "cell_type": "markdown",
   "id": "8f5c2514",
   "metadata": {},
   "source": [
    "# Building our model"
   ]
  },
  {
   "cell_type": "code",
   "execution_count": 153,
   "id": "426d5dc8",
   "metadata": {},
   "outputs": [
    {
     "name": "stdout",
     "output_type": "stream",
     "text": [
      "Model: \"sequential_24\"\n",
      "_________________________________________________________________\n",
      " Layer (type)                Output Shape              Param #   \n",
      "=================================================================\n",
      " conv1d_41 (Conv1D)          (None, 8960, 256)         1536      \n",
      "                                                                 \n",
      " max_pooling1d_34 (MaxPoolin  (None, 2240, 256)        0         \n",
      " g1D)                                                            \n",
      "                                                                 \n",
      " conv1d_42 (Conv1D)          (None, 2236, 128)         163968    \n",
      "                                                                 \n",
      " max_pooling1d_35 (MaxPoolin  (None, 559, 128)         0         \n",
      " g1D)                                                            \n",
      "                                                                 \n",
      " flatten_20 (Flatten)        (None, 71552)             0         \n",
      "                                                                 \n",
      " dense_54 (Dense)            (None, 64)                4579392   \n",
      "                                                                 \n",
      " dense_55 (Dense)            (None, 32)                2080      \n",
      "                                                                 \n",
      " dense_56 (Dense)            (None, 2)                 66        \n",
      "                                                                 \n",
      "=================================================================\n",
      "Total params: 4,747,042\n",
      "Trainable params: 4,747,042\n",
      "Non-trainable params: 0\n",
      "_________________________________________________________________\n"
     ]
    }
   ],
   "source": [
    "\n",
    "model = Sequential()\n",
    "model.add(Conv1D(filters=256, kernel_size=5, padding='same', activation='relu',\n",
    "                         input_shape=x_train.shape[1:]))\n",
    "model.add(MaxPool1D(pool_size=4))\n",
    "model.add(Conv1D(filters=128, kernel_size=5, activation='relu'))\n",
    "model.add(MaxPool1D(pool_size=4))\n",
    "model.add(Flatten())\n",
    "model.add(Dense(64, activation='sigmoid'))\n",
    "model.add(Dense(32, activation='sigmoid'))\n",
    "model.add(Dense(2, activation='softmax'))\n",
    "model.summary()"
   ]
  },
  {
   "cell_type": "code",
   "execution_count": 154,
   "id": "ed5abf6f",
   "metadata": {},
   "outputs": [],
   "source": [
    "\n",
    "model.compile(\n",
    "    optimizer='adam',\n",
    "    loss='binary_crossentropy', #since its a binary classification problem\n",
    "    metrics=['accuracy'],\n",
    ")"
   ]
  },
  {
   "cell_type": "markdown",
   "id": "8405b141",
   "metadata": {},
   "source": [
    "# Training the model"
   ]
  },
  {
   "cell_type": "code",
   "execution_count": 155,
   "id": "627da860",
   "metadata": {},
   "outputs": [
    {
     "name": "stdout",
     "output_type": "stream",
     "text": [
      "Epoch 1/30\n",
      "5/5 [==============================] - 4s 754ms/step - loss: 0.7124 - accuracy: 0.4583\n",
      "Epoch 2/30\n",
      "5/5 [==============================] - 4s 739ms/step - loss: 0.6936 - accuracy: 0.5278\n",
      "Epoch 3/30\n",
      "5/5 [==============================] - 4s 738ms/step - loss: 0.6958 - accuracy: 0.5764\n",
      "Epoch 4/30\n",
      "5/5 [==============================] - 4s 737ms/step - loss: 0.6883 - accuracy: 0.5278\n",
      "Epoch 5/30\n",
      "5/5 [==============================] - 4s 754ms/step - loss: 0.6811 - accuracy: 0.6319\n",
      "Epoch 6/30\n",
      "5/5 [==============================] - 4s 747ms/step - loss: 0.6759 - accuracy: 0.6111\n",
      "Epoch 7/30\n",
      "5/5 [==============================] - 4s 748ms/step - loss: 0.6585 - accuracy: 0.6806\n",
      "Epoch 8/30\n",
      "5/5 [==============================] - 4s 735ms/step - loss: 0.6519 - accuracy: 0.6250\n",
      "Epoch 9/30\n",
      "5/5 [==============================] - 4s 759ms/step - loss: 0.6242 - accuracy: 0.6944\n",
      "Epoch 10/30\n",
      "5/5 [==============================] - 4s 742ms/step - loss: 0.5937 - accuracy: 0.7361\n",
      "Epoch 11/30\n",
      "5/5 [==============================] - 4s 767ms/step - loss: 0.5653 - accuracy: 0.7569\n",
      "Epoch 12/30\n",
      "5/5 [==============================] - 4s 742ms/step - loss: 0.5347 - accuracy: 0.7778\n",
      "Epoch 13/30\n",
      "5/5 [==============================] - 4s 741ms/step - loss: 0.4997 - accuracy: 0.8264\n",
      "Epoch 14/30\n",
      "5/5 [==============================] - 4s 743ms/step - loss: 0.4697 - accuracy: 0.8264\n",
      "Epoch 15/30\n",
      "5/5 [==============================] - 4s 740ms/step - loss: 0.4727 - accuracy: 0.8403\n",
      "Epoch 16/30\n",
      "5/5 [==============================] - 4s 736ms/step - loss: 0.4488 - accuracy: 0.8125\n",
      "Epoch 17/30\n",
      "5/5 [==============================] - 4s 746ms/step - loss: 0.4061 - accuracy: 0.8750\n",
      "Epoch 18/30\n",
      "5/5 [==============================] - 4s 764ms/step - loss: 0.3674 - accuracy: 0.9028\n",
      "Epoch 19/30\n",
      "5/5 [==============================] - 4s 738ms/step - loss: 0.3382 - accuracy: 0.9097\n",
      "Epoch 20/30\n",
      "5/5 [==============================] - 4s 736ms/step - loss: 0.3170 - accuracy: 0.9236\n",
      "Epoch 21/30\n",
      "5/5 [==============================] - 4s 794ms/step - loss: 0.2990 - accuracy: 0.9306\n",
      "Epoch 22/30\n",
      "5/5 [==============================] - 4s 732ms/step - loss: 0.2685 - accuracy: 0.9375\n",
      "Epoch 23/30\n",
      "5/5 [==============================] - 4s 747ms/step - loss: 0.2531 - accuracy: 0.9375\n",
      "Epoch 24/30\n",
      "5/5 [==============================] - 4s 752ms/step - loss: 0.2316 - accuracy: 0.9375\n",
      "Epoch 25/30\n",
      "5/5 [==============================] - 4s 736ms/step - loss: 0.2158 - accuracy: 0.9514\n",
      "Epoch 26/30\n",
      "5/5 [==============================] - 4s 744ms/step - loss: 0.2017 - accuracy: 0.9583\n",
      "Epoch 27/30\n",
      "5/5 [==============================] - 4s 737ms/step - loss: 0.1898 - accuracy: 0.9514\n",
      "Epoch 28/30\n",
      "5/5 [==============================] - 4s 740ms/step - loss: 0.1729 - accuracy: 0.9583\n",
      "Epoch 29/30\n",
      "5/5 [==============================] - 4s 741ms/step - loss: 0.1588 - accuracy: 0.9653\n",
      "Epoch 30/30\n",
      "5/5 [==============================] - 4s 754ms/step - loss: 0.1516 - accuracy: 0.9722\n"
     ]
    }
   ],
   "source": [
    "EPOCHS=30\n",
    "history=model.fit(x_train,y_train,epochs=EPOCHS,batch_size=32,verbose=1)"
   ]
  },
  {
   "cell_type": "markdown",
   "id": "36b4aead",
   "metadata": {},
   "source": [
    "# Accuracy and loss evolution during the training "
   ]
  },
  {
   "cell_type": "code",
   "execution_count": 156,
   "id": "de9201b2",
   "metadata": {},
   "outputs": [
    {
     "data": {
      "image/png": "[encoded data removed]",
      "text/plain": [
       "<Figure size 432x288 with 1 Axes>"
      ]
     },
     "metadata": {
      "needs_background": "light"
     },
     "output_type": "display_data"
    }
   ],
   "source": [
    "loss_train = history.history['loss']\n",
    "\n",
    "epochs = range(1,31)\n",
    "plt.plot(epochs, loss_train, 'g', label='Training loss')\n",
    "plt.title('Training loss')\n",
    "plt.xlabel('Epochs')\n",
    "plt.ylabel('Loss')\n",
    "plt.legend()\n",
    "plt.show()"
   ]
  },
  {
   "cell_type": "markdown",
   "id": "ddde84bc",
   "metadata": {},
   "source": [
    "The loss is decreasing which means we have some learning going on , and that is always good ."
   ]
  },
  {
   "cell_type": "code",
   "execution_count": 157,
   "id": "4e284f28",
   "metadata": {},
   "outputs": [
    {
     "data": {
      "image/png": "[encoded data removed]",
      "text/plain": [
       "<Figure size 432x288 with 1 Axes>"
      ]
     },
     "metadata": {
      "needs_background": "light"
     },
     "output_type": "display_data"
    }
   ],
   "source": [
    "acc_train = history.history['accuracy']\n",
    "\n",
    "epochs = range(1,31)\n",
    "plt.plot(epochs, acc_train, 'g', label='Training accuracy')\n",
    "plt.title('Training accuracy')\n",
    "plt.xlabel('Epochs')\n",
    "plt.ylabel('accuracy')\n",
    "plt.legend()\n",
    "plt.show()"
   ]
  },
  {
   "cell_type": "markdown",
   "id": "f2356b01",
   "metadata": {},
   "source": [
    "The accuracy is shooting up meaning our model is getting better and better at predicting ."
   ]
  },
  {
   "cell_type": "markdown",
   "id": "b9100c51",
   "metadata": {},
   "source": [
    "# lets save the model "
   ]
  },
  {
   "cell_type": "code",
   "execution_count": 170,
   "id": "d29bcf91",
   "metadata": {},
   "outputs": [
    {
     "name": "stdout",
     "output_type": "stream",
     "text": [
      "INFO:tensorflow:Assets written to: C:\\Users\\ahmed\\Desktop\\trigerwords\\assets\n"
     ]
    }
   ],
   "source": [
    "model.save(r\"C:\\Users\\ahmed\\Desktop\\trigerwords\")"
   ]
  },
  {
   "cell_type": "markdown",
   "id": "8e2c5e0d",
   "metadata": {},
   "source": [
    "# Predicting labels for the test sample"
   ]
  },
  {
   "cell_type": "code",
   "execution_count": 78,
   "id": "b941dfc8",
   "metadata": {},
   "outputs": [
    {
     "data": {
      "text/plain": [
       "array([[0.9861172 , 0.01388277],\n",
       "       [0.80976903, 0.19023097],\n",
       "       [0.91537815, 0.08462187],\n",
       "       [0.9554468 , 0.04455321],\n",
       "       [0.35918447, 0.64081556],\n",
       "       [0.9908387 , 0.00916134],\n",
       "       [0.60455984, 0.3954402 ],\n",
       "       [0.03142901, 0.96857095],\n",
       "       [0.00327704, 0.996723  ],\n",
       "       [0.991137  , 0.00886305],\n",
       "       [0.99161243, 0.00838757],\n",
       "       [0.376124  , 0.623876  ],\n",
       "       [0.00210862, 0.99789137],\n",
       "       [0.7244716 , 0.27552828],\n",
       "       [0.01511059, 0.9848894 ],\n",
       "       [0.7985503 , 0.20144965],\n",
       "       [0.9908907 , 0.00910933],\n",
       "       [0.99073154, 0.0092685 ],\n",
       "       [0.65311927, 0.3468807 ],\n",
       "       [0.33888078, 0.66111916],\n",
       "       [0.00234017, 0.9976598 ],\n",
       "       [0.00352715, 0.9964728 ],\n",
       "       [0.37777373, 0.62222624],\n",
       "       [0.04182799, 0.95817196],\n",
       "       [0.00740918, 0.9925908 ],\n",
       "       [0.1138821 , 0.88611794],\n",
       "       [0.2761153 , 0.7238847 ],\n",
       "       [0.00218629, 0.9978137 ],\n",
       "       [0.01651609, 0.98348385],\n",
       "       [0.9800238 , 0.0199762 ],\n",
       "       [0.00825537, 0.9917447 ],\n",
       "       [0.00441664, 0.99558336],\n",
       "       [0.99088645, 0.00911355],\n",
       "       [0.98071265, 0.01928735],\n",
       "       [0.00531991, 0.9946801 ],\n",
       "       [0.8201787 , 0.17982131],\n",
       "       [0.00204832, 0.9979517 ],\n",
       "       [0.85798144, 0.14201856],\n",
       "       [0.00450794, 0.995492  ],\n",
       "       [0.00236147, 0.9976386 ],\n",
       "       [0.00455539, 0.99544466],\n",
       "       [0.03163953, 0.9683604 ],\n",
       "       [0.99005204, 0.00994792],\n",
       "       [0.97244453, 0.02755546],\n",
       "       [0.00745878, 0.9925412 ],\n",
       "       [0.9594901 , 0.04050991],\n",
       "       [0.8007872 , 0.19921277],\n",
       "       [0.00209022, 0.9979097 ],\n",
       "       [0.29383308, 0.7061669 ],\n",
       "       [0.01008127, 0.9899187 ],\n",
       "       [0.99137795, 0.00862206],\n",
       "       [0.03627216, 0.96372783],\n",
       "       [0.95844054, 0.04155941],\n",
       "       [0.97007924, 0.02992079],\n",
       "       [0.98804396, 0.01195599],\n",
       "       [0.4294894 , 0.5705106 ],\n",
       "       [0.07896101, 0.92103904],\n",
       "       [0.00470046, 0.99529946],\n",
       "       [0.9787421 , 0.02125785],\n",
       "       [0.98667324, 0.01332673],\n",
       "       [0.00444057, 0.99555945],\n",
       "       [0.98946464, 0.01053531],\n",
       "       [0.00216843, 0.9978315 ],\n",
       "       [0.9918675 , 0.00813252],\n",
       "       [0.00213071, 0.99786925],\n",
       "       [0.04225915, 0.95774084],\n",
       "       [0.962693  , 0.037307  ],\n",
       "       [0.10342133, 0.89657867],\n",
       "       [0.9911177 , 0.00888236],\n",
       "       [0.00209142, 0.9979086 ],\n",
       "       [0.990261  , 0.00973902],\n",
       "       [0.00232788, 0.99767214],\n",
       "       [0.9908063 , 0.00919365],\n",
       "       [0.9880481 , 0.01195195],\n",
       "       [0.9865819 , 0.01341808],\n",
       "       [0.24948907, 0.75051093],\n",
       "       [0.00255969, 0.99744034],\n",
       "       [0.00294881, 0.9970511 ],\n",
       "       [0.97423774, 0.0257623 ],\n",
       "       [0.04178774, 0.95821226],\n",
       "       [0.98797   , 0.01202998],\n",
       "       [0.0035053 , 0.9964947 ]], dtype=float32)"
      ]
     },
     "execution_count": 78,
     "metadata": {},
     "output_type": "execute_result"
    }
   ],
   "source": [
    "predictions=model.predict(x_test)\n",
    "predictions"
   ]
  },
  {
   "cell_type": "code",
   "execution_count": 79,
   "id": "50f64147",
   "metadata": {},
   "outputs": [
    {
     "data": {
      "text/plain": [
       "array([0.01388277, 0.19023097, 0.08462187, 0.04455321, 0.64081556,\n",
       "       0.00916134, 0.3954402 , 0.96857095, 0.996723  , 0.00886305,\n",
       "       0.00838757, 0.623876  , 0.99789137, 0.27552828, 0.9848894 ,\n",
       "       0.20144965, 0.00910933, 0.0092685 , 0.3468807 , 0.66111916,\n",
       "       0.9976598 , 0.9964728 , 0.62222624, 0.95817196, 0.9925908 ,\n",
       "       0.88611794, 0.7238847 , 0.9978137 , 0.98348385, 0.0199762 ,\n",
       "       0.9917447 , 0.99558336, 0.00911355, 0.01928735, 0.9946801 ,\n",
       "       0.17982131, 0.9979517 , 0.14201856, 0.995492  , 0.9976386 ,\n",
       "       0.99544466, 0.9683604 , 0.00994792, 0.02755546, 0.9925412 ,\n",
       "       0.04050991, 0.19921277, 0.9979097 , 0.7061669 , 0.9899187 ,\n",
       "       0.00862206, 0.96372783, 0.04155941, 0.02992079, 0.01195599,\n",
       "       0.5705106 , 0.92103904, 0.99529946, 0.02125785, 0.01332673,\n",
       "       0.99555945, 0.01053531, 0.9978315 , 0.00813252, 0.99786925,\n",
       "       0.95774084, 0.037307  , 0.89657867, 0.00888236, 0.9979086 ,\n",
       "       0.00973902, 0.99767214, 0.00919365, 0.01195195, 0.01341808,\n",
       "       0.75051093, 0.99744034, 0.9970511 , 0.0257623 , 0.95821226,\n",
       "       0.01202998, 0.9964947 ], dtype=float32)"
      ]
     },
     "execution_count": 79,
     "metadata": {},
     "output_type": "execute_result"
    }
   ],
   "source": [
    "pred=predictions[:,1]\n",
    "pred"
   ]
  },
  {
   "cell_type": "code",
   "execution_count": 80,
   "id": "433e55d1",
   "metadata": {},
   "outputs": [],
   "source": [
    "for i in range(len(pred)):\n",
    "    if pred[i]>=0.5:\n",
    "        pred[i]=int(0)\n",
    "    else :\n",
    "        pred[i]=int(1)"
   ]
  },
  {
   "cell_type": "code",
   "execution_count": 81,
   "id": "0f2680c9",
   "metadata": {},
   "outputs": [],
   "source": [
    "final_pred=pred.astype(int)"
   ]
  },
  {
   "cell_type": "code",
   "execution_count": 82,
   "id": "fcc85807",
   "metadata": {},
   "outputs": [
    {
     "data": {
      "text/plain": [
       "array([1, 1, 1, 1, 0, 1, 1, 0, 0, 1, 1, 0, 0, 1, 0, 1, 1, 1, 1, 0, 0, 0,\n",
       "       0, 0, 0, 0, 0, 0, 0, 1, 0, 0, 1, 1, 0, 1, 0, 1, 0, 0, 0, 0, 1, 1,\n",
       "       0, 1, 1, 0, 0, 0, 1, 0, 1, 1, 1, 0, 0, 0, 1, 1, 0, 1, 0, 1, 0, 0,\n",
       "       1, 0, 1, 0, 1, 0, 1, 1, 1, 0, 0, 0, 1, 0, 1, 0])"
      ]
     },
     "execution_count": 82,
     "metadata": {},
     "output_type": "execute_result"
    }
   ],
   "source": [
    "final_pred"
   ]
  },
  {
   "cell_type": "markdown",
   "id": "a6537e46",
   "metadata": {},
   "source": [
    "# FOR SUBMISSION ON KAGGLE "
   ]
  },
  {
   "cell_type": "code",
   "execution_count": null,
   "id": "785cd188",
   "metadata": {},
   "outputs": [],
   "source": [
    "#test=pd.read_csv(r\"C:\\Users\\ahmed\\Downloads\\sample_submission.csv\")"
   ]
  },
  {
   "cell_type": "code",
   "execution_count": 184,
   "id": "22bcdbed",
   "metadata": {},
   "outputs": [],
   "source": [
    "#for index , row in test.iterrows() :\n",
    "#    test[\"label\"].loc[index]=final_pred[index]"
   ]
  },
  {
   "cell_type": "code",
   "execution_count": 182,
   "id": "c19408d1",
   "metadata": {},
   "outputs": [],
   "source": [
    "#test.to_csv(r\"C:\\Users\\ahmed\\Documents\\sample_submission10.csv\",index=False)"
   ]
  }
 ],
 "metadata": {
  "kernelspec": {
   "display_name": "Python 3",
   "language": "python",
   "name": "python3"
  },
  "language_info": {
   "codemirror_mode": {
    "name": "ipython",
    "version": 3
   },
   "file_extension": ".py",
   "mimetype": "text/x-python",
   "name": "python",
   "nbconvert_exporter": "python",
   "pygments_lexer": "ipython3",
   "version": "3.8.8"
  }
 },
 "nbformat": 4,
 "nbformat_minor": 5
}
